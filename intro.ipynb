{
 "cells": [
  {
   "cell_type": "code",
   "execution_count": null,
   "id": "794c3afb",
   "metadata": {},
   "outputs": [
    {
     "name": "stdout",
     "output_type": "stream",
     "text": [
      "hello world\n"
     ]
    }
   ],
   "source": [
    "import pandas as pd"
   ]
  },
  {
   "cell_type": "code",
   "execution_count": 4,
   "id": "c146d509",
   "metadata": {},
   "outputs": [
    {
     "name": "stdout",
     "output_type": "stream",
     "text": [
      "0       BMW\n",
      "1    Nissan\n",
      "2    Toyota\n",
      "3     Honda\n",
      "dtype: object \n",
      "\n",
      "0      Red\n",
      "1    Green\n",
      "2     Blue\n",
      "3    White\n",
      "dtype: object\n"
     ]
    }
   ],
   "source": [
    "# 2 main datatypes \n",
    "# the first one is series data\n",
    "# series data is one dimensional\n",
    "brands = pd.Series(['BMW' , 'Nissan' , 'Toyota' , 'Honda'])\n",
    "colors = pd.Series (['Red' , 'Green' , 'Blue' , 'White'])\n",
    "print(brands , '\\n')\n",
    "print(colors)"
   ]
  },
  {
   "cell_type": "code",
   "execution_count": 5,
   "id": "bf2712e7",
   "metadata": {},
   "outputs": [
    {
     "name": "stdout",
     "output_type": "stream",
     "text": [
      "  Car make  Color\n",
      "0      BMW    Red\n",
      "1   Nissan  Green\n",
      "2   Toyota   Blue\n",
      "3    Honda  White\n"
     ]
    }
   ],
   "source": [
    "# the other type is DataFrame\n",
    "# DataFrame is 2 dimensional\n",
    "car_data = pd.DataFrame({\"Car make\" : brands , \"Color\" : colors })\n",
    "print(car_data)"
   ]
  },
  {
   "cell_type": "code",
   "execution_count": 8,
   "id": "b31d4a64",
   "metadata": {},
   "outputs": [
    {
     "name": "stdout",
     "output_type": "stream",
     "text": [
      "     Make  Color  Odometer (KM)  Doors       Price\n",
      "0  Toyota  White         150043      4   $4,000.00\n",
      "1   Honda    Red          87899      4   $5,000.00\n",
      "2  Toyota   Blue          32549      3   $7,000.00\n",
      "3     BMW  Black          11179      5  $22,000.00\n",
      "4  Nissan  White         213095      4   $3,500.00\n",
      "5  Toyota  Green          99213      4   $4,500.00\n",
      "6   Honda   Blue          45698      4   $7,500.00\n",
      "7   Honda   Blue          54738      4   $7,000.00\n",
      "8  Toyota  White          60000      4   $6,250.00\n",
      "9  Nissan  White          31600      4   $9,700.00\n"
     ]
    }
   ],
   "source": [
    "# what usually happen in the real world is you import data not create it like what we did above\n",
    "car_data = pd.read_csv('./data/car-sales.csv') # type: ignore\n",
    "print(car_data)"
   ]
  },
  {
   "cell_type": "code",
   "execution_count": 11,
   "id": "76e7d9dd",
   "metadata": {},
   "outputs": [
    {
     "name": "stdout",
     "output_type": "stream",
     "text": [
      "     Make  Color  Odometer (KM)  Doors       Price\n",
      "0  Toyota  White         150043      4   $4,000.00\n",
      "1   Honda    Red          87899      4   $5,000.00\n",
      "2  Toyota   Blue          32549      3   $7,000.00\n",
      "3     BMW  Black          11179      5  $22,000.00\n",
      "4  Nissan  White         213095      4   $3,500.00\n",
      "5  Toyota  Green          99213      4   $4,500.00\n",
      "6   Honda   Blue          45698      4   $7,500.00\n",
      "7   Honda   Blue          54738      4   $7,000.00\n",
      "8  Toyota  White          60000      4   $6,250.00\n",
      "9  Nissan  White          31600      4   $9,700.00\n"
     ]
    }
   ],
   "source": [
    "car_data.to_csv('./data/exported_sales_data.csv' , index=False)\n",
    "exported_data = pd.read_csv('./data/exported_sales_data.csv') # type: ignore\n",
    "print(exported_data)"
   ]
  },
  {
   "cell_type": "code",
   "execution_count": null,
   "id": "90e169fe",
   "metadata": {},
   "outputs": [],
   "source": []
  }
 ],
 "metadata": {
  "kernelspec": {
   "display_name": "Python 3",
   "language": "python",
   "name": "python3"
  },
  "language_info": {
   "codemirror_mode": {
    "name": "ipython",
    "version": 3
   },
   "file_extension": ".py",
   "mimetype": "text/x-python",
   "name": "python",
   "nbconvert_exporter": "python",
   "pygments_lexer": "ipython3",
   "version": "3.13.7"
  }
 },
 "nbformat": 4,
 "nbformat_minor": 5
}
