{
 "cells": [
  {
   "cell_type": "code",
   "execution_count": 1,
   "id": "1a2e7f5c",
   "metadata": {},
   "outputs": [],
   "source": [
    "from typing import TypeVar\n",
    "\n",
    "\n",
    "T = TypeVar('T')\n",
    "\n",
    "def pr(val : T , title:str|None = None) : # type: ignore\n",
    "    if title != None :\n",
    "        print(f\" ---------------------- {title} ---------------------- \")\n",
    "    print('type: ' , type(val))\n",
    "    print(val , '\\n')\n",
    "    # return val\n"
   ]
  },
  {
   "cell_type": "code",
   "execution_count": 2,
   "id": "70512539",
   "metadata": {},
   "outputs": [],
   "source": [
    "import numpy as np # type: ignore\n",
    "import numpy.typing as npt # type: ignore\n",
    "import pandas as pd # type: ignore"
   ]
  },
  {
   "cell_type": "code",
   "execution_count": 3,
   "id": "11d894c0",
   "metadata": {},
   "outputs": [
    {
     "name": "stdout",
     "output_type": "stream",
     "text": [
      " ---------------------- a1 ---------------------- \n",
      "type:  <class 'numpy.ndarray'>\n",
      "[16 15 12] \n",
      "\n",
      " ---------------------- a2 ---------------------- \n",
      "type:  <class 'numpy.ndarray'>\n",
      "[[13 18 12]\n",
      " [17 12 15]] \n",
      "\n"
     ]
    }
   ],
   "source": [
    "a1 : npt.NDArray[np.int64] = np.random.randint(10,20, (3))\n",
    "a2 : npt.NDArray[np.int64] = np.random.randint(10,20, (2,3))\n",
    "pr(a1 , 'a1')\n",
    "pr(a2 , 'a2')"
   ]
  },
  {
   "cell_type": "code",
   "execution_count": 7,
   "id": "0be922ae",
   "metadata": {},
   "outputs": [
    {
     "name": "stdout",
     "output_type": "stream",
     "text": [
      " ---------------------- a1 > a2 ---------------------- \n",
      "type:  <class 'numpy.ndarray'>\n",
      "[[ True False False]\n",
      " [False  True False]] \n",
      "\n",
      " ---------------------- a1 < a2 ---------------------- \n",
      "type:  <class 'numpy.ndarray'>\n",
      "[[False  True False]\n",
      " [ True False  True]] \n",
      "\n",
      " ---------------------- a1 == a2 ---------------------- \n",
      "type:  <class 'numpy.ndarray'>\n",
      "[[False False  True]\n",
      " [False False False]] \n",
      "\n"
     ]
    }
   ],
   "source": [
    "bool_array :npt.NDArray[np.bool] = a1 > a2\n",
    "pr(bool_array , 'a1 > a2')\n",
    "bool_array :npt.NDArray[np.bool] = a1 < a2\n",
    "pr(bool_array , 'a1 < a2')\n",
    "bool_array :npt.NDArray[np.bool] = a1 == a2\n",
    "pr(bool_array , 'a1 == a2')"
   ]
  },
  {
   "cell_type": "code",
   "execution_count": null,
   "id": "8eee437b",
   "metadata": {},
   "outputs": [],
   "source": []
  }
 ],
 "metadata": {
  "kernelspec": {
   "display_name": "Python 3",
   "language": "python",
   "name": "python3"
  },
  "language_info": {
   "codemirror_mode": {
    "name": "ipython",
    "version": 3
   },
   "file_extension": ".py",
   "mimetype": "text/x-python",
   "name": "python",
   "nbconvert_exporter": "python",
   "pygments_lexer": "ipython3",
   "version": "3.13.7"
  }
 },
 "nbformat": 4,
 "nbformat_minor": 5
}
