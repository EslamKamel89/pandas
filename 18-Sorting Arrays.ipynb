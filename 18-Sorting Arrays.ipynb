{
 "cells": [
  {
   "cell_type": "code",
   "execution_count": 1,
   "id": "a32a233b",
   "metadata": {},
   "outputs": [],
   "source": [
    "from typing import TypeVar\n",
    "\n",
    "\n",
    "T = TypeVar('T')\n",
    "\n",
    "def pr(val : T , title:str|None = None) : # type: ignore\n",
    "    if title != None :\n",
    "        print(f\" ---------------------- {title} ---------------------- \")\n",
    "    print('type: ' , type(val))\n",
    "    print(val , '\\n')\n",
    "    # return val\n"
   ]
  },
  {
   "cell_type": "code",
   "execution_count": 2,
   "id": "2a165cbe",
   "metadata": {},
   "outputs": [],
   "source": [
    "import numpy as np # type: ignore\n",
    "import numpy.typing as npt # type: ignore\n",
    "import pandas as pd # type: ignore"
   ]
  },
  {
   "cell_type": "code",
   "execution_count": 6,
   "id": "bfe8db1a",
   "metadata": {},
   "outputs": [
    {
     "name": "stdout",
     "output_type": "stream",
     "text": [
      " ---------------------- a1 ---------------------- \n",
      "type:  <class 'numpy.ndarray'>\n",
      "[[15 10 19 17 19]\n",
      " [14 15 17 16 10]\n",
      " [10 18 13 14 13]] \n",
      "\n",
      " ---------------------- np.sort(a1) ---------------------- \n",
      "type:  <class 'numpy.ndarray'>\n",
      "[[10 15 17 19 19]\n",
      " [10 14 15 16 17]\n",
      " [10 13 13 14 18]] \n",
      "\n",
      " ---------------------- a1.sort() ---------------------- \n",
      "type:  <class 'numpy.ndarray'>\n",
      "[[10 15 17 19 19]\n",
      " [10 14 15 16 17]\n",
      " [10 13 13 14 18]] \n",
      "\n"
     ]
    }
   ],
   "source": [
    "a1:npt.NDArray[np.int64] = np.random.randint(10,20 , (3,5))\n",
    "pr(a1 , 'a1')\n",
    "pr(np.sort(a1) , 'np.sort(a1)')\n",
    "# .sort method on a numpy array mutate the original numpy array\n",
    "a1.sort()\n",
    "pr(a1 , 'a1.sort()')\n"
   ]
  },
  {
   "cell_type": "code",
   "execution_count": null,
   "id": "ff00b2ba",
   "metadata": {},
   "outputs": [
    {
     "name": "stdout",
     "output_type": "stream",
     "text": [
      " ---------------------- a1 ---------------------- \n",
      "type:  <class 'numpy.ndarray'>\n",
      "[[18 13 13 19 11]\n",
      " [16 16 15 16 16]\n",
      " [11 12 12 19 15]] \n",
      "\n",
      " ---------------------- np.argsort(a1) ---------------------- \n",
      "type:  <class 'numpy.ndarray'>\n",
      "[[4 1 2 0 3]\n",
      " [2 0 1 3 4]\n",
      " [0 1 2 4 3]] \n",
      "\n",
      " ---------------------- np.argmin(a1 , axis=0) ---------------------- \n",
      "type:  <class 'numpy.ndarray'>\n",
      "[2 2 2 1 0] \n",
      "\n",
      " ---------------------- np.argmin(a1 , axis=1) ---------------------- \n",
      "type:  <class 'numpy.ndarray'>\n",
      "[4 2 0] \n",
      "\n",
      " ---------------------- np.argmax(a1 , axis=0) ---------------------- \n",
      "type:  <class 'numpy.ndarray'>\n",
      "[0 1 1 0 1] \n",
      "\n",
      " ---------------------- np.argmax(a1 , axis=1) ---------------------- \n",
      "type:  <class 'numpy.ndarray'>\n",
      "[3 0 3] \n",
      "\n"
     ]
    }
   ],
   "source": [
    "a1:npt.NDArray[np.int64] = np.random.randint(10,20 , (3,5))\n",
    "pr(a1 , 'a1')\n",
    "pr(np.argsort(a1) , 'np.argsort(a1)')\n",
    "# both methods argmin and argmax are very confusing because i used to axis=0 is for the rows and axis-1 is for the columns.\n",
    "# but when i used axis=0 the result has size(5) and when i used axis=1 the result has size(3)\n",
    "# it should be reversed in my opinion.\n",
    "pr(np.argmin(a1 , axis=0) , 'np.argmin(a1 , axis=0)')\n",
    "pr(np.argmin(a1 , axis=1) , 'np.argmin(a1 , axis=1)')\n",
    "pr(np.argmax(a1 , axis=0) , 'np.argmax(a1 , axis=0)')\n",
    "pr(np.argmax(a1 , axis=1) , 'np.argmax(a1 , axis=1)')"
   ]
  },
  {
   "cell_type": "code",
   "execution_count": null,
   "id": "a8b371bd",
   "metadata": {},
   "outputs": [],
   "source": []
  }
 ],
 "metadata": {
  "kernelspec": {
   "display_name": "Python 3",
   "language": "python",
   "name": "python3"
  },
  "language_info": {
   "codemirror_mode": {
    "name": "ipython",
    "version": 3
   },
   "file_extension": ".py",
   "mimetype": "text/x-python",
   "name": "python",
   "nbconvert_exporter": "python",
   "pygments_lexer": "ipython3",
   "version": "3.13.7"
  }
 },
 "nbformat": 4,
 "nbformat_minor": 5
}
