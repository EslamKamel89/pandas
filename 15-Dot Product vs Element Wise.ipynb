{
 "cells": [
  {
   "cell_type": "code",
   "execution_count": 1,
   "id": "6c78d396",
   "metadata": {},
   "outputs": [],
   "source": [
    "from typing import TypeVar\n",
    "\n",
    "\n",
    "T = TypeVar('T')\n",
    "\n",
    "def pr(val : T , title:str|None = None) : # type: ignore\n",
    "    if title != None :\n",
    "        print(f\" ---------------------- {title} ---------------------- \")\n",
    "    print('type: ' , type(val))\n",
    "    print(val , '\\n')\n",
    "    # return val\n"
   ]
  },
  {
   "cell_type": "code",
   "execution_count": 2,
   "id": "40e59a4f",
   "metadata": {},
   "outputs": [],
   "source": [
    "import numpy as np # type: ignore\n",
    "import numpy.typing as npt # type: ignore"
   ]
  },
  {
   "cell_type": "code",
   "execution_count": 5,
   "id": "05e4a803",
   "metadata": {},
   "outputs": [
    {
     "name": "stdout",
     "output_type": "stream",
     "text": [
      " ---------------------- mt1 ---------------------- \n",
      "type:  <class 'numpy.ndarray'>\n",
      "[[5 0 3]\n",
      " [3 7 9]\n",
      " [3 5 2]\n",
      " [4 7 6]\n",
      " [8 8 1]] \n",
      "\n",
      " ---------------------- mt2 ---------------------- \n",
      "type:  <class 'numpy.ndarray'>\n",
      "[[6 7 7]\n",
      " [8 1 5]\n",
      " [9 8 9]\n",
      " [4 3 0]\n",
      " [3 5 0]] \n",
      "\n"
     ]
    }
   ],
   "source": [
    "np.random.seed(0)\n",
    "mt1 = np.random.randint(0,10,(5,3))\n",
    "mt2 = np.random.randint(0,10,(5,3))\n",
    "pr(mt1 , 'mt1')\n",
    "pr(mt2 , 'mt2')"
   ]
  },
  {
   "cell_type": "code",
   "execution_count": null,
   "id": "6c5232d2",
   "metadata": {},
   "outputs": [
    {
     "name": "stdout",
     "output_type": "stream",
     "text": [
      " ---------------------- mt1*mt2 ---------------------- \n",
      "type:  <class 'numpy.ndarray'>\n",
      "[[30  0 21]\n",
      " [24  7 45]\n",
      " [27 40 18]\n",
      " [16 21  0]\n",
      " [24 40  0]] \n",
      "\n"
     ]
    }
   ],
   "source": [
    "# what we studied so far is element-wise multiplication.\n",
    "pr(mt1*mt2 , 'mt1*mt2')"
   ]
  },
  {
   "cell_type": "code",
   "execution_count": null,
   "id": "e356ed6a",
   "metadata": {},
   "outputs": [
    {
     "ename": "ValueError",
     "evalue": "shapes (5,3) and (5,3) not aligned: 3 (dim 1) != 5 (dim 0)",
     "output_type": "error",
     "traceback": [
      "\u001b[31m---------------------------------------------------------------------------\u001b[39m",
      "\u001b[31mValueError\u001b[39m                                Traceback (most recent call last)",
      "\u001b[36mCell\u001b[39m\u001b[36m \u001b[39m\u001b[32mIn[7]\u001b[39m\u001b[32m, line 2\u001b[39m\n\u001b[32m      1\u001b[39m \u001b[38;5;66;03m# let's try to perform dot product\u001b[39;00m\n\u001b[32m----> \u001b[39m\u001b[32m2\u001b[39m \u001b[43mnp\u001b[49m\u001b[43m.\u001b[49m\u001b[43mdot\u001b[49m\u001b[43m(\u001b[49m\u001b[43mmt1\u001b[49m\u001b[43m,\u001b[49m\u001b[43mmt2\u001b[49m\u001b[43m)\u001b[49m\n",
      "\u001b[31mValueError\u001b[39m: shapes (5,3) and (5,3) not aligned: 3 (dim 1) != 5 (dim 0)"
     ]
    }
   ],
   "source": [
    "# let's try to perform dot product\n",
    "# the code below will produce an error that the size don't match\n",
    "# the error that will show up when running the below code is `ValueError: shapes (5,3) and (5,3) not aligned: 3 (dim 1) != 5 (dim 0)`\n",
    "np.dot(mt1,mt2)"
   ]
  },
  {
   "cell_type": "code",
   "execution_count": null,
   "id": "48d063dc",
   "metadata": {},
   "outputs": [
    {
     "name": "stdout",
     "output_type": "stream",
     "text": [
      "type:  <class 'numpy.ndarray'>\n",
      "[[ 51  55  72  20  15]\n",
      " [130  76 164  33  44]\n",
      " [ 67  39  85  27  34]\n",
      " [115  69 146  37  47]\n",
      " [111  77 145  56  64]] \n",
      "\n"
     ]
    }
   ],
   "source": [
    "# you have to perform a transpose so dot multiplication don't produce an error.\n",
    "# can you make sense of what dot product do. not the math but i want to make sense why we use dot product in simple terms and beginner friendly way.\n",
    "pr(np.dot(mt1,mt2.T))\n"
   ]
  },
  {
   "cell_type": "code",
   "execution_count": null,
   "id": "4c0ec48e",
   "metadata": {},
   "outputs": [],
   "source": []
  }
 ],
 "metadata": {
  "kernelspec": {
   "display_name": "Python 3",
   "language": "python",
   "name": "python3"
  },
  "language_info": {
   "codemirror_mode": {
    "name": "ipython",
    "version": 3
   },
   "file_extension": ".py",
   "mimetype": "text/x-python",
   "name": "python",
   "nbconvert_exporter": "python",
   "pygments_lexer": "ipython3",
   "version": "3.13.7"
  }
 },
 "nbformat": 4,
 "nbformat_minor": 5
}
