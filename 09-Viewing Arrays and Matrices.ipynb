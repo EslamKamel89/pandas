{
 "cells": [
  {
   "cell_type": "code",
   "execution_count": 1,
   "id": "6229d90c",
   "metadata": {},
   "outputs": [],
   "source": [
    "from typing import TypeVar\n",
    "\n",
    "\n",
    "T = TypeVar('T')\n",
    "\n",
    "def pr(val : T , title:str|None = None) : # type: ignore\n",
    "    if title != None :\n",
    "        print(f\" ---------------------- {title} ---------------------- \")\n",
    "    print('type: ' , type(val))\n",
    "    print(val , '\\n')\n",
    "    # return val\n"
   ]
  },
  {
   "cell_type": "code",
   "execution_count": 2,
   "id": "9b2f2a4e",
   "metadata": {},
   "outputs": [],
   "source": [
    "import numpy as np # type: ignore\n",
    "import numpy.typing as npt # type: ignore"
   ]
  },
  {
   "cell_type": "code",
   "execution_count": null,
   "id": "26aadded",
   "metadata": {},
   "outputs": [
    {
     "name": "stdout",
     "output_type": "stream",
     "text": [
      " ---------------------- rarray ---------------------- \n",
      "type:  <class 'numpy.ndarray'>\n",
      "[[[1 5 5 6 1]\n",
      "  [4 8 9 3 2]\n",
      "  [3 3 4 3 9]\n",
      "  [6 0 0 8 8]]\n",
      "\n",
      " [[2 6 3 7 0]\n",
      "  [0 6 5 7 3]\n",
      "  [9 0 4 3 6]\n",
      "  [3 3 9 8 1]]\n",
      "\n",
      " [[6 8 3 4 1]\n",
      "  [4 1 5 3 2]\n",
      "  [5 8 3 6 5]\n",
      "  [0 7 7 2 1]]] \n",
      "\n"
     ]
    }
   ],
   "source": [
    "rarray : npt.NDArray[np.int64] = np.random.randint(low=0 , high=10 ,  size=(3,4,5))\n",
    "pr(rarray, 'rarray')"
   ]
  },
  {
   "cell_type": "code",
   "execution_count": null,
   "id": "972e564d",
   "metadata": {},
   "outputs": [
    {
     "name": "stdout",
     "output_type": "stream",
     "text": [
      "type:  <class 'numpy.ndarray'>\n",
      "[0 1 2 3 4 5 6 7 8 9] \n",
      "\n"
     ]
    }
   ],
   "source": [
    "# get the unique elements in an array \n",
    "unique: npt.NDArray[np.int64] = np.unique(rarray)\n",
    "pr(unique)"
   ]
  },
  {
   "cell_type": "code",
   "execution_count": 9,
   "id": "06bf4a48",
   "metadata": {},
   "outputs": [
    {
     "name": "stdout",
     "output_type": "stream",
     "text": [
      " ---------------------- rarray ---------------------- \n",
      "type:  <class 'numpy.ndarray'>\n",
      "[[[1 5 5 6 1]\n",
      "  [4 8 9 3 2]\n",
      "  [3 3 4 3 9]\n",
      "  [6 0 0 8 8]]\n",
      "\n",
      " [[2 6 3 7 0]\n",
      "  [0 6 5 7 3]\n",
      "  [9 0 4 3 6]\n",
      "  [3 3 9 8 1]]\n",
      "\n",
      " [[6 8 3 4 1]\n",
      "  [4 1 5 3 2]\n",
      "  [5 8 3 6 5]\n",
      "  [0 7 7 2 1]]] \n",
      "\n",
      " ---------------------- rarray[0] ---------------------- \n",
      "type:  <class 'numpy.ndarray'>\n",
      "[[1 5 5 6 1]\n",
      " [4 8 9 3 2]\n",
      " [3 3 4 3 9]\n",
      " [6 0 0 8 8]] \n",
      "\n",
      " ---------------------- rarray[0][0] ---------------------- \n",
      "type:  <class 'numpy.ndarray'>\n",
      "[1 5 5 6 1] \n",
      "\n",
      " ---------------------- rarray[0][0][0] ---------------------- \n",
      "type:  <class 'numpy.int32'>\n",
      "1 \n",
      "\n"
     ]
    }
   ],
   "source": [
    "# let's experiment with indexing in numpy. \n",
    "# i created an array that have the size of (3,4,5)\n",
    "pr(rarray , 'rarray')\n",
    "pr(rarray[0] , 'rarray[0]')\n",
    "pr(rarray[0][0] , 'rarray[0][0]')\n",
    "pr(rarray[0][0][0] , 'rarray[0][0][0]')"
   ]
  },
  {
   "cell_type": "code",
   "execution_count": 10,
   "id": "19a8f064",
   "metadata": {},
   "outputs": [
    {
     "name": "stdout",
     "output_type": "stream",
     "text": [
      " ---------------------- rarray ---------------------- \n",
      "type:  <class 'numpy.ndarray'>\n",
      "[[[1 5 5 6 1]\n",
      "  [4 8 9 3 2]\n",
      "  [3 3 4 3 9]\n",
      "  [6 0 0 8 8]]\n",
      "\n",
      " [[2 6 3 7 0]\n",
      "  [0 6 5 7 3]\n",
      "  [9 0 4 3 6]\n",
      "  [3 3 9 8 1]]\n",
      "\n",
      " [[6 8 3 4 1]\n",
      "  [4 1 5 3 2]\n",
      "  [5 8 3 6 5]\n",
      "  [0 7 7 2 1]]] \n",
      "\n",
      " ---------------------- rarray[2] ---------------------- \n",
      "type:  <class 'numpy.ndarray'>\n",
      "[[6 8 3 4 1]\n",
      " [4 1 5 3 2]\n",
      " [5 8 3 6 5]\n",
      " [0 7 7 2 1]] \n",
      "\n",
      " ---------------------- rarray[2][2] ---------------------- \n",
      "type:  <class 'numpy.ndarray'>\n",
      "[5 8 3 6 5] \n",
      "\n",
      " ---------------------- rarray[2][2][2] ---------------------- \n",
      "type:  <class 'numpy.int32'>\n",
      "3 \n",
      "\n"
     ]
    }
   ],
   "source": [
    "# let's experiment with indexing in numpy. \n",
    "# i created an array that have the size of (3,4,5)\n",
    "pr(rarray , 'rarray')\n",
    "pr(rarray[2] , 'rarray[2]')\n",
    "pr(rarray[2][2] , 'rarray[2][2]')\n",
    "pr(rarray[2][2][2] , 'rarray[2][2][2]')"
   ]
  },
  {
   "cell_type": "code",
   "execution_count": 13,
   "id": "ac2ffbec",
   "metadata": {},
   "outputs": [
    {
     "name": "stdout",
     "output_type": "stream",
     "text": [
      " ---------------------- rarray ---------------------- \n",
      "type:  <class 'numpy.ndarray'>\n",
      "[[[1 5 5 6 1]\n",
      "  [4 8 9 3 2]\n",
      "  [3 3 4 3 9]\n",
      "  [6 0 0 8 8]]\n",
      "\n",
      " [[2 6 3 7 0]\n",
      "  [0 6 5 7 3]\n",
      "  [9 0 4 3 6]\n",
      "  [3 3 9 8 1]]\n",
      "\n",
      " [[6 8 3 4 1]\n",
      "  [4 1 5 3 2]\n",
      "  [5 8 3 6 5]\n",
      "  [0 7 7 2 1]]] \n",
      "\n",
      " ---------------------- rarray[:2] ---------------------- \n",
      "type:  <class 'numpy.ndarray'>\n",
      "[[[1 5 5 6 1]\n",
      "  [4 8 9 3 2]\n",
      "  [3 3 4 3 9]\n",
      "  [6 0 0 8 8]]\n",
      "\n",
      " [[2 6 3 7 0]\n",
      "  [0 6 5 7 3]\n",
      "  [9 0 4 3 6]\n",
      "  [3 3 9 8 1]]] \n",
      "\n",
      " ---------------------- rarray[:2][:2] ---------------------- \n",
      "type:  <class 'numpy.ndarray'>\n",
      "[[[1 5 5 6 1]\n",
      "  [4 8 9 3 2]\n",
      "  [3 3 4 3 9]\n",
      "  [6 0 0 8 8]]\n",
      "\n",
      " [[2 6 3 7 0]\n",
      "  [0 6 5 7 3]\n",
      "  [9 0 4 3 6]\n",
      "  [3 3 9 8 1]]] \n",
      "\n",
      " ---------------------- rarray[:2][:2][:2] ---------------------- \n",
      "type:  <class 'numpy.ndarray'>\n",
      "[[[1 5 5 6 1]\n",
      "  [4 8 9 3 2]\n",
      "  [3 3 4 3 9]\n",
      "  [6 0 0 8 8]]\n",
      "\n",
      " [[2 6 3 7 0]\n",
      "  [0 6 5 7 3]\n",
      "  [9 0 4 3 6]\n",
      "  [3 3 9 8 1]]] \n",
      "\n"
     ]
    }
   ],
   "source": [
    "# let's experiment with indexing in numpy. \n",
    "# i created an array that have the size of (3,4,5)\n",
    "pr(rarray , 'rarray')\n",
    "pr(rarray[:2] , 'rarray[:2]')\n",
    "pr(rarray[:2][:2] , 'rarray[:2][:2]')\n",
    "pr(rarray[:2][:2][:2] , 'rarray[:2][:2][:2]')"
   ]
  },
  {
   "cell_type": "code",
   "execution_count": 14,
   "id": "36b5ffb6",
   "metadata": {},
   "outputs": [
    {
     "name": "stdout",
     "output_type": "stream",
     "text": [
      " ---------------------- rarray ---------------------- \n",
      "type:  <class 'numpy.ndarray'>\n",
      "[[[1 5 5 6 1]\n",
      "  [4 8 9 3 2]\n",
      "  [3 3 4 3 9]\n",
      "  [6 0 0 8 8]]\n",
      "\n",
      " [[2 6 3 7 0]\n",
      "  [0 6 5 7 3]\n",
      "  [9 0 4 3 6]\n",
      "  [3 3 9 8 1]]\n",
      "\n",
      " [[6 8 3 4 1]\n",
      "  [4 1 5 3 2]\n",
      "  [5 8 3 6 5]\n",
      "  [0 7 7 2 1]]] \n",
      "\n",
      " ---------------------- rarray[:2] ---------------------- \n",
      "type:  <class 'numpy.ndarray'>\n",
      "[[[1 5 5 6 1]\n",
      "  [4 8 9 3 2]\n",
      "  [3 3 4 3 9]\n",
      "  [6 0 0 8 8]]\n",
      "\n",
      " [[2 6 3 7 0]\n",
      "  [0 6 5 7 3]\n",
      "  [9 0 4 3 6]\n",
      "  [3 3 9 8 1]]] \n",
      "\n",
      " ---------------------- rarray[:2 , :2] ---------------------- \n",
      "type:  <class 'numpy.ndarray'>\n",
      "[[[1 5 5 6 1]\n",
      "  [4 8 9 3 2]]\n",
      "\n",
      " [[2 6 3 7 0]\n",
      "  [0 6 5 7 3]]] \n",
      "\n",
      " ---------------------- rarray[:2 , :2 ,:2] ---------------------- \n",
      "type:  <class 'numpy.ndarray'>\n",
      "[[[1 5]\n",
      "  [4 8]]\n",
      "\n",
      " [[2 6]\n",
      "  [0 6]]] \n",
      "\n"
     ]
    }
   ],
   "source": [
    "# let's experiment with indexing in numpy. \n",
    "# i created an array that have the size of (3,4,5)\n",
    "pr(rarray , 'rarray')\n",
    "pr(rarray[:2] , 'rarray[:2]')\n",
    "pr(rarray[:2,:2] , 'rarray[:2 , :2]')\n",
    "pr(rarray[:2 ,:2 ,:2] , 'rarray[:2 , :2 ,:2]')"
   ]
  },
  {
   "cell_type": "code",
   "execution_count": null,
   "id": "4f52e3dc",
   "metadata": {},
   "outputs": [],
   "source": []
  }
 ],
 "metadata": {
  "kernelspec": {
   "display_name": "Python 3",
   "language": "python",
   "name": "python3"
  },
  "language_info": {
   "codemirror_mode": {
    "name": "ipython",
    "version": 3
   },
   "file_extension": ".py",
   "mimetype": "text/x-python",
   "name": "python",
   "nbconvert_exporter": "python",
   "pygments_lexer": "ipython3",
   "version": "3.13.7"
  }
 },
 "nbformat": 4,
 "nbformat_minor": 5
}
