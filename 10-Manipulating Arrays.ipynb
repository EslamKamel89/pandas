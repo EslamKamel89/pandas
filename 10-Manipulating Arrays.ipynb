{
 "cells": [
  {
   "cell_type": "code",
   "execution_count": 1,
   "id": "dc09cdc6",
   "metadata": {},
   "outputs": [],
   "source": [
    "from typing import TypeVar\n",
    "\n",
    "\n",
    "T = TypeVar('T')\n",
    "\n",
    "def pr(val : T , title:str|None = None) : # type: ignore\n",
    "    if title != None :\n",
    "        print(f\" ---------------------- {title} ---------------------- \")\n",
    "    print('type: ' , type(val))\n",
    "    print(val , '\\n')\n",
    "    # return val\n"
   ]
  },
  {
   "cell_type": "code",
   "execution_count": 2,
   "id": "14871d8d",
   "metadata": {},
   "outputs": [],
   "source": [
    "import numpy as np # type: ignore\n",
    "import numpy.typing as npt # type: ignore"
   ]
  },
  {
   "cell_type": "code",
   "execution_count": 3,
   "id": "d84e0cf8",
   "metadata": {},
   "outputs": [
    {
     "name": "stdout",
     "output_type": "stream",
     "text": [
      " ---------------------- a1 ---------------------- \n",
      "type:  <class 'numpy.ndarray'>\n",
      "[1 2 3] \n",
      "\n",
      " ---------------------- ones ---------------------- \n",
      "type:  <class 'numpy.ndarray'>\n",
      "[1. 1. 1.] \n",
      "\n",
      " ---------------------- a2 + ones ---------------------- \n",
      "type:  <class 'numpy.ndarray'>\n",
      "[2. 3. 4.] \n",
      "\n",
      " ---------------------- a2 - ones ---------------------- \n",
      "type:  <class 'numpy.ndarray'>\n",
      "[0. 1. 2.] \n",
      "\n",
      " ---------------------- a1 * ones ---------------------- \n",
      "type:  <class 'numpy.ndarray'>\n",
      "[1. 2. 3.] \n",
      "\n"
     ]
    }
   ],
   "source": [
    "a1 : npt.NDArray [np.int64] = np.array([1,2,3])\n",
    "ones = np.ones(shape=(3))\n",
    "pr(a1 , 'a1')\n",
    "pr(ones , 'ones')\n",
    "pr(a1 + ones , 'a2 + ones')\n",
    "pr(a1 - ones , 'a2 - ones')\n",
    "pr(a1 * ones , 'a1 * ones' )"
   ]
  },
  {
   "cell_type": "code",
   "execution_count": 7,
   "id": "abe9ac9c",
   "metadata": {},
   "outputs": [
    {
     "name": "stdout",
     "output_type": "stream",
     "text": [
      " ---------------------- a1 ---------------------- \n",
      "type:  <class 'numpy.ndarray'>\n",
      "[1 2 3] \n",
      "\n",
      " ---------------------- a2 ---------------------- \n",
      "type:  <class 'numpy.ndarray'>\n",
      "[[9 7 7]\n",
      " [7 9 1]\n",
      " [5 6 4]] \n",
      "\n",
      " ---------------------- a1 * a2 ---------------------- \n",
      "type:  <class 'numpy.ndarray'>\n",
      "[[ 9 14 21]\n",
      " [ 7 18  3]\n",
      " [ 5 12 12]] \n",
      "\n",
      " ---------------------- a3 / a2 ---------------------- \n",
      "type:  <class 'numpy.ndarray'>\n",
      "[[0.66666667 0.14285714 0.14285714]\n",
      " [1.14285714 0.11111111 6.        ]\n",
      " [1.2        1.5        2.25      ]] \n",
      "\n",
      " ---------------------- a3 // a2 ---------------------- \n",
      "type:  <class 'numpy.ndarray'>\n",
      "[[0 0 0]\n",
      " [1 0 6]\n",
      " [1 1 2]] \n",
      "\n",
      " ---------------------- a2 ** 2 ---------------------- \n",
      "type:  <class 'numpy.ndarray'>\n",
      "[[81 49 49]\n",
      " [49 81  1]\n",
      " [25 36 16]] \n",
      "\n",
      " ---------------------- a2 % 2 ---------------------- \n",
      "type:  <class 'numpy.ndarray'>\n",
      "[[1 1 1]\n",
      " [1 1 1]\n",
      " [1 0 0]] \n",
      "\n"
     ]
    }
   ],
   "source": [
    "a2 = np.random.randint(1,10 , size=(3,3))\n",
    "a3 = np.random.randint(1,10 , size=(3,3))\n",
    "pr(a1 , 'a1')\n",
    "pr(a2 , 'a2')\n",
    "pr(a1 * a2 , 'a1 * a2')\n",
    "pr(a3 / a2 , 'a3 / a2')\n",
    "pr(a3 // a2 , 'a3 // a2') \n",
    "pr(a2 ** 2 , 'a2 ** 2')\n",
    "pr(a2 % 2 , 'a2 % 2')\n"
   ]
  },
  {
   "cell_type": "code",
   "execution_count": null,
   "id": "7e6c5864",
   "metadata": {},
   "outputs": [],
   "source": []
  }
 ],
 "metadata": {
  "kernelspec": {
   "display_name": "Python 3",
   "language": "python",
   "name": "python3"
  },
  "language_info": {
   "codemirror_mode": {
    "name": "ipython",
    "version": 3
   },
   "file_extension": ".py",
   "mimetype": "text/x-python",
   "name": "python",
   "nbconvert_exporter": "python",
   "pygments_lexer": "ipython3",
   "version": "3.13.7"
  }
 },
 "nbformat": 4,
 "nbformat_minor": 5
}
