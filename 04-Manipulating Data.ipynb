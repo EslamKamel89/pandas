{
 "cells": [
  {
   "cell_type": "code",
   "execution_count": 1,
   "id": "ef0dd519",
   "metadata": {},
   "outputs": [],
   "source": [
    "from typing import TypeVar\n",
    "\n",
    "\n",
    "T = TypeVar('T')\n",
    "\n",
    "def pr(val : T , title:str|None = None) : # type: ignore\n",
    "    if title != None :\n",
    "        print(f\" ---------------------- {title} ---------------------- \")\n",
    "    print('type: ' , type(val))\n",
    "    print(val , '\\n')\n",
    "    # return val"
   ]
  },
  {
   "cell_type": "code",
   "execution_count": 2,
   "id": "fe6ff43c",
   "metadata": {},
   "outputs": [
    {
     "name": "stdout",
     "output_type": "stream",
     "text": [
      " ---------------------- car sales ---------------------- \n",
      "type:  <class 'pandas.core.frame.DataFrame'>\n",
      "     Make  Color  Odometer (KM)  Doors       Price\n",
      "0  Toyota  White         150043      4   $4,000.00\n",
      "1   Honda    Red          87899      4   $5,000.00\n",
      "2  Toyota   Blue          32549      3   $7,000.00\n",
      "3     BMW  Black          11179      5  $22,000.00\n",
      "4  Nissan  White         213095      4   $3,500.00\n",
      "5  Toyota  Green          99213      4   $4,500.00\n",
      "6   Honda   Blue          45698      4   $7,500.00\n",
      "7   Honda   Blue          54738      4   $7,000.00\n",
      "8  Toyota  White          60000      4   $6,250.00\n",
      "9  Nissan  White          31600      4   $9,700.00 \n",
      "\n"
     ]
    }
   ],
   "source": [
    "import pandas as pd\n",
    "df = pd.read_csv('./data/car-sales.csv') # type: ignore\n",
    "pr(df , 'car sales')"
   ]
  },
  {
   "cell_type": "code",
   "execution_count": 3,
   "id": "a45b391d",
   "metadata": {},
   "outputs": [
    {
     "name": "stdout",
     "output_type": "stream",
     "text": [
      "type:  <class 'pandas.core.series.Series'>\n",
      "0    Toyota\n",
      "1     Honda\n",
      "2    Toyota\n",
      "3       BMW\n",
      "4    Nissan\n",
      "5    Toyota\n",
      "6     Honda\n",
      "7     Honda\n",
      "8    Toyota\n",
      "9    Nissan\n",
      "Name: Make, dtype: object \n",
      "\n",
      "type:  <class 'pandas.core.series.Series'>\n",
      "0    toyota\n",
      "1     honda\n",
      "2    toyota\n",
      "3       bmw\n",
      "4    nissan\n",
      "5    toyota\n",
      "6     honda\n",
      "7     honda\n",
      "8    toyota\n",
      "9    nissan\n",
      "Name: Make, dtype: object \n",
      "\n",
      "type:  <class 'pandas.core.series.Series'>\n",
      "0    Make: toyota\n",
      "1     Make: honda\n",
      "2    Make: toyota\n",
      "3       Make: bmw\n",
      "4    Make: nissan\n",
      "5    Make: toyota\n",
      "6     Make: honda\n",
      "7     Make: honda\n",
      "8    Make: toyota\n",
      "9    Make: nissan\n",
      "Name: Make, dtype: object \n",
      "\n"
     ]
    }
   ],
   "source": [
    "pr(df['Make'])\n",
    "pr(df['Make'].str.lower())\n",
    "pr('Make: '+df['Make'].str.lower())"
   ]
  },
  {
   "cell_type": "code",
   "execution_count": 4,
   "id": "fa23b0d5",
   "metadata": {},
   "outputs": [
    {
     "name": "stdout",
     "output_type": "stream",
     "text": [
      "type:  <class 'pandas.core.frame.DataFrame'>\n",
      "     Make  Color  Odometer  Doors    Price\n",
      "0  Toyota  White  150043.0    4.0   $4,000\n",
      "1   Honda    Red   87899.0    4.0   $5,000\n",
      "2  Toyota   Blue       NaN    3.0   $7,000\n",
      "3     BMW  Black   11179.0    5.0  $22,000\n",
      "4  Nissan  White  213095.0    4.0   $3,500\n",
      "5  Toyota  Green       NaN    4.0   $4,500\n",
      "6   Honda    NaN       NaN    4.0   $7,500\n",
      "7   Honda   Blue       NaN    4.0      NaN\n",
      "8  Toyota  White   60000.0    NaN      NaN\n",
      "9     NaN  White   31600.0    4.0   $9,700 \n",
      "\n"
     ]
    }
   ],
   "source": [
    "# i will import a csv with missing data for experimenting\n",
    "df2 = pd.read_csv('./data/car-sales-missing-data.csv') # type: ignore\n",
    "pr(df2)"
   ]
  },
  {
   "cell_type": "code",
   "execution_count": 5,
   "id": "58b5927b",
   "metadata": {},
   "outputs": [
    {
     "name": "stdout",
     "output_type": "stream",
     "text": [
      "type:  <class 'pandas.core.frame.DataFrame'>\n",
      "     Make  Color       Odometer  Doors    Price\n",
      "0  Toyota  White  150043.000000    4.0   $4,000\n",
      "1   Honda    Red   87899.000000    4.0   $5,000\n",
      "2  Toyota   Blue   92302.666667    3.0   $7,000\n",
      "3     BMW  Black   11179.000000    5.0  $22,000\n",
      "4  Nissan  White  213095.000000    4.0   $3,500\n",
      "5  Toyota  Green   92302.666667    4.0   $4,500\n",
      "6   Honda    NaN   92302.666667    4.0   $7,500\n",
      "7   Honda   Blue   92302.666667    4.0      NaN\n",
      "8  Toyota  White   60000.000000    NaN      NaN\n",
      "9     NaN  White   31600.000000    4.0   $9,700 \n",
      "\n"
     ]
    },
    {
     "name": "stderr",
     "output_type": "stream",
     "text": [
      "C:\\Users\\Hp\\AppData\\Local\\Temp\\ipykernel_11504\\3850810249.py:2: FutureWarning: A value is trying to be set on a copy of a DataFrame or Series through chained assignment using an inplace method.\n",
      "The behavior will change in pandas 3.0. This inplace method will never work because the intermediate object on which we are setting values always behaves as a copy.\n",
      "\n",
      "For example, when doing 'df[col].method(value, inplace=True)', try using 'df.method({col: value}, inplace=True)' or df[col] = df[col].method(value) instead, to perform the operation inplace on the original object.\n",
      "\n",
      "\n",
      "  df2['Odometer'].fillna(df2['Odometer'].mean(skipna=True,numeric_only=True) , inplace=True) # type: ignore\n"
     ]
    }
   ],
   "source": [
    "# we will try to replace empty value with the mean value inplace\n",
    "df2['Odometer'].fillna(df2['Odometer'].mean(skipna=True,numeric_only=True) , inplace=True) # type: ignore\n",
    "pr(df2)"
   ]
  },
  {
   "cell_type": "code",
   "execution_count": 6,
   "id": "bdbaa122",
   "metadata": {},
   "outputs": [
    {
     "name": "stdout",
     "output_type": "stream",
     "text": [
      "type:  <class 'pandas.core.frame.DataFrame'>\n",
      "     Make  Color       Odometer  Doors    Price\n",
      "0  Toyota  White  150043.000000    4.0   $4,000\n",
      "1   Honda    Red   87899.000000    4.0   $5,000\n",
      "2  Toyota   Blue   92302.666667    3.0   $7,000\n",
      "3     BMW  Black   11179.000000    5.0  $22,000\n",
      "4  Nissan  White  213095.000000    4.0   $3,500\n",
      "5  Toyota  Green   92302.666667    4.0   $4,500 \n",
      "\n"
     ]
    }
   ],
   "source": [
    "# now we will try to delete any row that have missing values \n",
    "df2.dropna(inplace=True)\n",
    "pr(df2)"
   ]
  },
  {
   "cell_type": "code",
   "execution_count": 7,
   "id": "c8635847",
   "metadata": {},
   "outputs": [],
   "source": [
    "df2 = pd.read_csv('./data/car-sales-missing-data.csv') # type: ignore\n"
   ]
  },
  {
   "cell_type": "markdown",
   "id": "ca73c30d",
   "metadata": {},
   "source": [
    "# Manipulating data 2"
   ]
  },
  {
   "cell_type": "code",
   "execution_count": 8,
   "id": "e677f4c0",
   "metadata": {},
   "outputs": [
    {
     "name": "stdout",
     "output_type": "stream",
     "text": [
      "type:  <class 'pandas.core.frame.DataFrame'>\n",
      "     Make  Color  Odometer (KM)  Doors       Price\n",
      "0  Toyota  White         150043      4   $4,000.00\n",
      "1   Honda    Red          87899      4   $5,000.00\n",
      "2  Toyota   Blue          32549      3   $7,000.00\n",
      "3     BMW  Black          11179      5  $22,000.00\n",
      "4  Nissan  White         213095      4   $3,500.00\n",
      "5  Toyota  Green          99213      4   $4,500.00\n",
      "6   Honda   Blue          45698      4   $7,500.00\n",
      "7   Honda   Blue          54738      4   $7,000.00\n",
      "8  Toyota  White          60000      4   $6,250.00\n",
      "9  Nissan  White          31600      4   $9,700.00 \n",
      "\n"
     ]
    }
   ],
   "source": [
    "pr(df)"
   ]
  },
  {
   "cell_type": "code",
   "execution_count": null,
   "id": "eca86f5a",
   "metadata": {},
   "outputs": [
    {
     "name": "stdout",
     "output_type": "stream",
     "text": [
      "type:  <class 'pandas.core.frame.DataFrame'>\n",
      "     Make  Color  Odometer (KM)  Doors       Price  car_seats\n",
      "0  Toyota  White         150043      4   $4,000.00        4.0\n",
      "1   Honda    Red          87899      4   $5,000.00        4.0\n",
      "2  Toyota   Blue          32549      3   $7,000.00        4.0\n",
      "3     BMW  Black          11179      5  $22,000.00        4.0\n",
      "4  Nissan  White         213095      4   $3,500.00        4.0\n",
      "5  Toyota  Green          99213      4   $4,500.00        4.0\n",
      "6   Honda   Blue          45698      4   $7,500.00        4.0\n",
      "7   Honda   Blue          54738      4   $7,000.00        4.0\n",
      "8  Toyota  White          60000      4   $6,250.00        NaN\n",
      "9  Nissan  White          31600      4   $9,700.00        NaN \n",
      "\n"
     ]
    }
   ],
   "source": [
    "# how to assign new column to an existing data frame.\n",
    "seats_column = pd.Series([4,4,4,4,4,4,4,4])\n",
    "df['car_seats'] = seats_column\n",
    "pr(df)"
   ]
  },
  {
   "cell_type": "code",
   "execution_count": 11,
   "id": "ae95461e",
   "metadata": {},
   "outputs": [
    {
     "name": "stdout",
     "output_type": "stream",
     "text": [
      "type:  <class 'pandas.core.frame.DataFrame'>\n",
      "     Make  Color  Odometer (KM)  Doors       Price  car_seats\n",
      "0  Toyota  White         150043      4   $4,000.00        4.0\n",
      "1   Honda    Red          87899      4   $5,000.00        4.0\n",
      "2  Toyota   Blue          32549      3   $7,000.00        4.0\n",
      "3     BMW  Black          11179      5  $22,000.00        4.0\n",
      "4  Nissan  White         213095      4   $3,500.00        4.0\n",
      "5  Toyota  Green          99213      4   $4,500.00        4.0\n",
      "6   Honda   Blue          45698      4   $7,500.00        4.0\n",
      "7   Honda   Blue          54738      4   $7,000.00        4.0\n",
      "8  Toyota  White          60000      4   $6,250.00        5.0\n",
      "9  Nissan  White          31600      4   $9,700.00        5.0 \n",
      "\n"
     ]
    },
    {
     "name": "stderr",
     "output_type": "stream",
     "text": [
      "C:\\Users\\Hp\\AppData\\Local\\Temp\\ipykernel_11504\\4150723520.py:2: FutureWarning: A value is trying to be set on a copy of a DataFrame or Series through chained assignment using an inplace method.\n",
      "The behavior will change in pandas 3.0. This inplace method will never work because the intermediate object on which we are setting values always behaves as a copy.\n",
      "\n",
      "For example, when doing 'df[col].method(value, inplace=True)', try using 'df.method({col: value}, inplace=True)' or df[col] = df[col].method(value) instead, to perform the operation inplace on the original object.\n",
      "\n",
      "\n",
      "  df['car_seats'].fillna(5 ,inplace=True ) # type: ignore\n"
     ]
    }
   ],
   "source": [
    "# now we face a problem that some car_seats rows don't have value\n",
    "df['car_seats'].fillna(5 ,inplace=True ) # type: ignore\n",
    "pr(df)"
   ]
  },
  {
   "cell_type": "code",
   "execution_count": 13,
   "id": "05ab9139",
   "metadata": {},
   "outputs": [
    {
     "name": "stdout",
     "output_type": "stream",
     "text": [
      "type:  <class 'pandas.core.frame.DataFrame'>\n",
      "     Make  Color  Odometer (KM)  Doors       Price  car_seats  fuel per 100 KM\n",
      "0  Toyota  White         150043      4   $4,000.00        4.0              7.5\n",
      "1   Honda    Red          87899      4   $5,000.00        4.0              9.0\n",
      "2  Toyota   Blue          32549      3   $7,000.00        4.0              2.0\n",
      "3     BMW  Black          11179      5  $22,000.00        4.0              5.6\n",
      "4  Nissan  White         213095      4   $3,500.00        4.0              7.4\n",
      "5  Toyota  Green          99213      4   $4,500.00        4.0              6.0\n",
      "6   Honda   Blue          45698      4   $7,500.00        4.0              5.0\n",
      "7   Honda   Blue          54738      4   $7,000.00        4.0              9.0\n",
      "8  Toyota  White          60000      4   $6,250.00        5.0              8.0\n",
      "9  Nissan  White          31600      4   $9,700.00        5.0              3.0 \n",
      "\n"
     ]
    }
   ],
   "source": [
    "# we could create a column from an ordinary list\n",
    "fuel_economy : list[float] = [7.5,9,2,5.6,7.4,6,5,9,8,3]\n",
    "df['fuel per 100 KM'] = fuel_economy\n",
    "pr(df)"
   ]
  },
  {
   "cell_type": "code",
   "execution_count": 14,
   "id": "a599a75f",
   "metadata": {},
   "outputs": [
    {
     "name": "stdout",
     "output_type": "stream",
     "text": [
      "type:  <class 'pandas.core.frame.DataFrame'>\n",
      "     Make  Color  Odometer (KM)  Doors       Price  car_seats  \\\n",
      "0  Toyota  White         150043      4   $4,000.00        4.0   \n",
      "1   Honda    Red          87899      4   $5,000.00        4.0   \n",
      "2  Toyota   Blue          32549      3   $7,000.00        4.0   \n",
      "3     BMW  Black          11179      5  $22,000.00        4.0   \n",
      "4  Nissan  White         213095      4   $3,500.00        4.0   \n",
      "5  Toyota  Green          99213      4   $4,500.00        4.0   \n",
      "6   Honda   Blue          45698      4   $7,500.00        4.0   \n",
      "7   Honda   Blue          54738      4   $7,000.00        4.0   \n",
      "8  Toyota  White          60000      4   $6,250.00        5.0   \n",
      "9  Nissan  White          31600      4   $9,700.00        5.0   \n",
      "\n",
      "   fuel per 100 KM  total fuel used  \n",
      "0              7.5          6001.72  \n",
      "1              9.0          3515.96  \n",
      "2              2.0          1301.96  \n",
      "3              5.6           447.16  \n",
      "4              7.4          8523.80  \n",
      "5              6.0          3968.52  \n",
      "6              5.0          1827.92  \n",
      "7              9.0          2189.52  \n",
      "8              8.0          3000.00  \n",
      "9              3.0          1580.00   \n",
      "\n"
     ]
    }
   ],
   "source": [
    "# we will try to get the value of fuel each car consume in it's entire life\n",
    "df['total fuel used'] = (df['Odometer (KM)'] /100) * df['car_seats']\n",
    "pr(df)"
   ]
  },
  {
   "cell_type": "code",
   "execution_count": 15,
   "id": "a1d9e997",
   "metadata": {},
   "outputs": [
    {
     "name": "stdout",
     "output_type": "stream",
     "text": [
      "type:  <class 'pandas.core.frame.DataFrame'>\n",
      "     Make  Color  Odometer (KM)  Doors       Price  car_seats  \\\n",
      "0  Toyota  White         150043      4   $4,000.00        4.0   \n",
      "1   Honda    Red          87899      4   $5,000.00        4.0   \n",
      "2  Toyota   Blue          32549      3   $7,000.00        4.0   \n",
      "3     BMW  Black          11179      5  $22,000.00        4.0   \n",
      "4  Nissan  White         213095      4   $3,500.00        4.0   \n",
      "5  Toyota  Green          99213      4   $4,500.00        4.0   \n",
      "6   Honda   Blue          45698      4   $7,500.00        4.0   \n",
      "7   Honda   Blue          54738      4   $7,000.00        4.0   \n",
      "8  Toyota  White          60000      4   $6,250.00        5.0   \n",
      "9  Nissan  White          31600      4   $9,700.00        5.0   \n",
      "\n",
      "   fuel per 100 KM  total fuel used  Number of wheels  \n",
      "0              7.5          6001.72                 4  \n",
      "1              9.0          3515.96                 4  \n",
      "2              2.0          1301.96                 4  \n",
      "3              5.6           447.16                 4  \n",
      "4              7.4          8523.80                 4  \n",
      "5              6.0          3968.52                 4  \n",
      "6              5.0          1827.92                 4  \n",
      "7              9.0          2189.52                 4  \n",
      "8              8.0          3000.00                 4  \n",
      "9              3.0          1580.00                 4   \n",
      "\n"
     ]
    }
   ],
   "source": [
    "# create a column from a single value.\n",
    "df['Number of wheels'] = 4\n",
    "pr(df)"
   ]
  },
  {
   "cell_type": "code",
   "execution_count": 18,
   "id": "5d3ec561",
   "metadata": {},
   "outputs": [
    {
     "name": "stdout",
     "output_type": "stream",
     "text": [
      "type:  <class 'pandas.core.frame.DataFrame'>\n",
      "     Make  Color  Odometer (KM)  Doors       Price  car_seats  \\\n",
      "0  Toyota  White         150043      4   $4,000.00        4.0   \n",
      "1   Honda    Red          87899      4   $5,000.00        4.0   \n",
      "2  Toyota   Blue          32549      3   $7,000.00        4.0   \n",
      "3     BMW  Black          11179      5  $22,000.00        4.0   \n",
      "4  Nissan  White         213095      4   $3,500.00        4.0   \n",
      "5  Toyota  Green          99213      4   $4,500.00        4.0   \n",
      "6   Honda   Blue          45698      4   $7,500.00        4.0   \n",
      "7   Honda   Blue          54738      4   $7,000.00        4.0   \n",
      "8  Toyota  White          60000      4   $6,250.00        5.0   \n",
      "9  Nissan  White          31600      4   $9,700.00        5.0   \n",
      "\n",
      "   fuel per 100 KM  total fuel used  Number of wheels  passed road safety  \n",
      "0              7.5          6001.72                 4                True  \n",
      "1              9.0          3515.96                 4                True  \n",
      "2              2.0          1301.96                 4                True  \n",
      "3              5.6           447.16                 4                True  \n",
      "4              7.4          8523.80                 4                True  \n",
      "5              6.0          3968.52                 4                True  \n",
      "6              5.0          1827.92                 4                True  \n",
      "7              9.0          2189.52                 4                True  \n",
      "8              8.0          3000.00                 4                True  \n",
      "9              3.0          1580.00                 4                True   \n",
      "\n",
      "type:  <class 'pandas.core.series.Series'>\n",
      "Make                   object\n",
      "Color                  object\n",
      "Odometer (KM)           int64\n",
      "Doors                   int64\n",
      "Price                  object\n",
      "car_seats             float64\n",
      "fuel per 100 KM       float64\n",
      "total fuel used       float64\n",
      "Number of wheels        int64\n",
      "passed road safety       bool\n",
      "dtype: object \n",
      "\n"
     ]
    }
   ],
   "source": [
    "df['passed road safety'] = True \n",
    "pr(df)\n",
    "pr(df.dtypes)"
   ]
  },
  {
   "cell_type": "code",
   "execution_count": 20,
   "id": "bc02e028",
   "metadata": {},
   "outputs": [
    {
     "name": "stdout",
     "output_type": "stream",
     "text": [
      "type:  <class 'pandas.core.frame.DataFrame'>\n",
      "     Make  Color  Odometer (KM)  Doors       Price  car_seats  \\\n",
      "0  Toyota  White         150043      4   $4,000.00        4.0   \n",
      "1   Honda    Red          87899      4   $5,000.00        4.0   \n",
      "2  Toyota   Blue          32549      3   $7,000.00        4.0   \n",
      "3     BMW  Black          11179      5  $22,000.00        4.0   \n",
      "4  Nissan  White         213095      4   $3,500.00        4.0   \n",
      "5  Toyota  Green          99213      4   $4,500.00        4.0   \n",
      "6   Honda   Blue          45698      4   $7,500.00        4.0   \n",
      "7   Honda   Blue          54738      4   $7,000.00        4.0   \n",
      "8  Toyota  White          60000      4   $6,250.00        5.0   \n",
      "9  Nissan  White          31600      4   $9,700.00        5.0   \n",
      "\n",
      "   fuel per 100 KM  total fuel used  Number of wheels  \n",
      "0              7.5          6001.72                 4  \n",
      "1              9.0          3515.96                 4  \n",
      "2              2.0          1301.96                 4  \n",
      "3              5.6           447.16                 4  \n",
      "4              7.4          8523.80                 4  \n",
      "5              6.0          3968.52                 4  \n",
      "6              5.0          1827.92                 4  \n",
      "7              9.0          2189.52                 4  \n",
      "8              8.0          3000.00                 4  \n",
      "9              3.0          1580.00                 4   \n",
      "\n"
     ]
    }
   ],
   "source": [
    "# we could drop column if we want \n",
    "df.drop('passed road safety' , axis=1 , inplace=True)\n",
    "pr(df)"
   ]
  },
  {
   "cell_type": "code",
   "execution_count": null,
   "id": "008c5345",
   "metadata": {},
   "outputs": [],
   "source": []
  }
 ],
 "metadata": {
  "kernelspec": {
   "display_name": "Python 3",
   "language": "python",
   "name": "python3"
  },
  "language_info": {
   "codemirror_mode": {
    "name": "ipython",
    "version": 3
   },
   "file_extension": ".py",
   "mimetype": "text/x-python",
   "name": "python",
   "nbconvert_exporter": "python",
   "pygments_lexer": "ipython3",
   "version": "3.13.7"
  }
 },
 "nbformat": 4,
 "nbformat_minor": 5
}
