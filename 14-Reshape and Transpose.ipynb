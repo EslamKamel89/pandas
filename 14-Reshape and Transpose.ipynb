{
 "cells": [
  {
   "cell_type": "code",
   "execution_count": 1,
   "id": "7c516914",
   "metadata": {},
   "outputs": [],
   "source": [
    "from typing import TypeVar\n",
    "\n",
    "\n",
    "T = TypeVar('T')\n",
    "\n",
    "def pr(val : T , title:str|None = None) : # type: ignore\n",
    "    if title != None :\n",
    "        print(f\" ---------------------- {title} ---------------------- \")\n",
    "    print('type: ' , type(val))\n",
    "    print(val , '\\n')\n",
    "    # return val\n"
   ]
  },
  {
   "cell_type": "code",
   "execution_count": 2,
   "id": "67aa17c6",
   "metadata": {},
   "outputs": [],
   "source": [
    "import numpy as np # type: ignore\n",
    "import numpy.typing as npt # type: ignore"
   ]
  },
  {
   "cell_type": "code",
   "execution_count": 5,
   "id": "e7e78602",
   "metadata": {},
   "outputs": [
    {
     "name": "stdout",
     "output_type": "stream",
     "text": [
      " ---------------------- arr1 ---------------------- \n",
      "type:  <class 'numpy.ndarray'>\n",
      "[[1 7 8]\n",
      " [4 5 7]] \n",
      "\n",
      " ---------------------- arr1.shape ---------------------- \n",
      "type:  <class 'tuple'>\n",
      "(2, 3) \n",
      "\n",
      " ---------------------- arr2 ---------------------- \n",
      "type:  <class 'numpy.ndarray'>\n",
      "[[[5 3 3]\n",
      "  [8 3 6]\n",
      "  [8 8 9]]\n",
      "\n",
      " [[6 2 3]\n",
      "  [4 6 6]\n",
      "  [4 9 1]]] \n",
      "\n",
      " ---------------------- arr2.shape ---------------------- \n",
      "type:  <class 'tuple'>\n",
      "(2, 3, 3) \n",
      "\n"
     ]
    }
   ],
   "source": [
    "arr1 =  np.random.randint(0 , 10 , size=(2,3))\n",
    "arr2 =  np.random.randint(0 , 10 , size=(2,3 , 3))\n",
    "pr(arr1 , 'arr1')\n",
    "pr(arr1.shape , 'arr1.shape')\n",
    "pr(arr2 , 'arr2')\n",
    "pr(arr2.shape , 'arr2.shape')"
   ]
  },
  {
   "cell_type": "code",
   "execution_count": null,
   "id": "87b87970",
   "metadata": {},
   "outputs": [
    {
     "name": "stdout",
     "output_type": "stream",
     "text": [
      " ---------------------- arr1 ---------------------- \n",
      "type:  <class 'numpy.ndarray'>\n",
      "[[1 7 8]\n",
      " [4 5 7]] \n",
      "\n",
      " ---------------------- arr1.reshape((2,3,1)) ---------------------- \n",
      "type:  <class 'numpy.ndarray'>\n",
      "[[[1]\n",
      "  [7]\n",
      "  [8]]\n",
      "\n",
      " [[4]\n",
      "  [5]\n",
      "  [7]]] \n",
      "\n",
      " ---------------------- arr2 ---------------------- \n",
      "type:  <class 'numpy.ndarray'>\n",
      "[[[5 3 3]\n",
      "  [8 3 6]\n",
      "  [8 8 9]]\n",
      "\n",
      " [[6 2 3]\n",
      "  [4 6 6]\n",
      "  [4 9 1]]] \n",
      "\n",
      "type:  <class 'numpy.ndarray'>\n",
      "[[[ 5  3  3]\n",
      "  [56 21 42]\n",
      "  [64 64 72]]\n",
      "\n",
      " [[24  8 12]\n",
      "  [20 30 30]\n",
      "  [28 63  7]]] \n",
      "\n"
     ]
    }
   ],
   "source": [
    "pr(arr1 , 'arr1')\n",
    "arr1_reshape = arr1.reshape((2,3,1))\n",
    "pr( arr1_reshape, 'arr1.reshape((2,3,1))')\n",
    "pr(arr2 , 'arr2')\n",
    "pr(arr1_reshape * arr2 , 'now multiplication is possible because shapes is compatible.')"
   ]
  },
  {
   "cell_type": "code",
   "execution_count": 12,
   "id": "c13160b3",
   "metadata": {},
   "outputs": [
    {
     "name": "stdout",
     "output_type": "stream",
     "text": [
      " ---------------------- arr1 ---------------------- \n",
      "type:  <class 'numpy.ndarray'>\n",
      "[[1 7 8]\n",
      " [4 5 7]] \n",
      "\n",
      " ---------------------- arr1.T ---------------------- \n",
      "type:  <class 'numpy.ndarray'>\n",
      "[[1 4]\n",
      " [7 5]\n",
      " [8 7]] \n",
      "\n"
     ]
    }
   ],
   "source": [
    "# transpose is switching the axes\n",
    "pr(arr1 , 'arr1')\n",
    "pr(arr1.T , 'arr1.T')"
   ]
  },
  {
   "cell_type": "code",
   "execution_count": null,
   "id": "677a2a4c",
   "metadata": {},
   "outputs": [],
   "source": []
  }
 ],
 "metadata": {
  "kernelspec": {
   "display_name": "Python 3",
   "language": "python",
   "name": "python3"
  },
  "language_info": {
   "codemirror_mode": {
    "name": "ipython",
    "version": 3
   },
   "file_extension": ".py",
   "mimetype": "text/x-python",
   "name": "python",
   "nbconvert_exporter": "python",
   "pygments_lexer": "ipython3",
   "version": "3.13.7"
  }
 },
 "nbformat": 4,
 "nbformat_minor": 5
}
