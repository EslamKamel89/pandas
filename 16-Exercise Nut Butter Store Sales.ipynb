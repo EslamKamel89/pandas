{
 "cells": [
  {
   "cell_type": "code",
   "execution_count": 1,
   "id": "c9e46fca",
   "metadata": {},
   "outputs": [],
   "source": [
    "from typing import TypeVar\n",
    "\n",
    "\n",
    "T = TypeVar('T')\n",
    "\n",
    "def pr(val : T , title:str|None = None) : # type: ignore\n",
    "    if title != None :\n",
    "        print(f\" ---------------------- {title} ---------------------- \")\n",
    "    print('type: ' , type(val))\n",
    "    print(val , '\\n')\n",
    "    # return val\n"
   ]
  },
  {
   "cell_type": "code",
   "execution_count": 5,
   "id": "9bc6de7a",
   "metadata": {},
   "outputs": [],
   "source": [
    "import numpy as np # type: ignore\n",
    "import numpy.typing as npt # type: ignore\n",
    "import pandas as pd"
   ]
  },
  {
   "cell_type": "code",
   "execution_count": 3,
   "id": "fbe2ca22",
   "metadata": {},
   "outputs": [
    {
     "name": "stdout",
     "output_type": "stream",
     "text": [
      " ---------------------- sales_amount ---------------------- \n",
      "type:  <class 'numpy.ndarray'>\n",
      "[[15 10 13]\n",
      " [13 17 19]\n",
      " [13 15 12]\n",
      " [14 17 16]\n",
      " [18 18 11]] \n",
      "\n"
     ]
    }
   ],
   "source": [
    "np.random.seed(0)\n",
    "sales_amount = np.random.randint(10,20 , (5,3))\n",
    "pr(sales_amount , 'sales_amount')"
   ]
  },
  {
   "cell_type": "code",
   "execution_count": 10,
   "id": "592fac5a",
   "metadata": {},
   "outputs": [
    {
     "name": "stdout",
     "output_type": "stream",
     "text": [
      " ---------------------- weekly_sales ---------------------- \n",
      "type:  <class 'pandas.core.frame.DataFrame'>\n",
      "       Almond Butter  Peanut Butter  Cashew Butter\n",
      "Mon               15             10             13\n",
      "Tues              13             17             19\n",
      "Wed               13             15             12\n",
      "Thurs             14             17             16\n",
      "Fri               18             18             11 \n",
      "\n"
     ]
    }
   ],
   "source": [
    "weekly_sales = pd.DataFrame(\n",
    "    sales_amount , \n",
    "    index=['Mon' , 'Tues' ,'Wed' , 'Thurs' , 'Fri' ],\n",
    "    columns=['Almond Butter' , 'Peanut Butter' , 'Cashew Butter']\n",
    "    )\n",
    "pr(weekly_sales , 'weekly_sales')"
   ]
  },
  {
   "cell_type": "code",
   "execution_count": 22,
   "id": "9ac89aea",
   "metadata": {},
   "outputs": [
    {
     "name": "stdout",
     "output_type": "stream",
     "text": [
      " ---------------------- prices ---------------------- \n",
      "type:  <class 'numpy.ndarray'>\n",
      "[10  8 12] \n",
      "\n",
      " ---------------------- prices ---------------------- \n",
      "type:  <class 'numpy.ndarray'>\n",
      "[[10  8 12]] \n",
      "\n",
      " ---------------------- butter_prices ---------------------- \n",
      "type:  <class 'pandas.core.frame.DataFrame'>\n",
      "       Almond Butter  Peanut Butter  Cashew Butter\n",
      "Price             10              8             12 \n",
      "\n"
     ]
    }
   ],
   "source": [
    "prices = np.array([10,8,12])\n",
    "pr(prices , 'prices')\n",
    "prices = prices.reshape((1,3))\n",
    "pr(prices , 'prices')\n",
    "butter_prices = pd.DataFrame(\n",
    "    prices , \n",
    "    index=['Price'] ,\n",
    "    columns=['Almond Butter' , 'Peanut Butter' , 'Cashew Butter']\n",
    "    )\n",
    "pr(butter_prices , 'butter_prices')"
   ]
  },
  {
   "cell_type": "code",
   "execution_count": 25,
   "id": "2bf1ce19",
   "metadata": {},
   "outputs": [
    {
     "name": "stdout",
     "output_type": "stream",
     "text": [
      " ---------------------- total_sales ---------------------- \n",
      "type:  <class 'numpy.ndarray'>\n",
      "[[386]\n",
      " [494]\n",
      " [394]\n",
      " [468]\n",
      " [456]] \n",
      "\n"
     ]
    }
   ],
   "source": [
    "total_sales = sales_amount.dot(prices.T)\n",
    "pr(total_sales , 'total_sales')"
   ]
  },
  {
   "cell_type": "code",
   "execution_count": 29,
   "id": "f21c678e",
   "metadata": {},
   "outputs": [
    {
     "name": "stdout",
     "output_type": "stream",
     "text": [
      " ---------------------- butter_prices ---------------------- \n",
      "type:  <class 'pandas.core.frame.DataFrame'>\n",
      "       Almond Butter  Peanut Butter  Cashew Butter\n",
      "Price             10              8             12 \n",
      "\n",
      " ---------------------- weekly_sales ---------------------- \n",
      "type:  <class 'pandas.core.frame.DataFrame'>\n",
      "       Almond Butter  Peanut Butter  Cashew Butter  Total ($)\n",
      "Mon               15             10             13        386\n",
      "Tues              13             17             19        494\n",
      "Wed               13             15             12        394\n",
      "Thurs             14             17             16        468\n",
      "Fri               18             18             11        456 \n",
      "\n"
     ]
    }
   ],
   "source": [
    "pr(butter_prices , 'butter_prices')\n",
    "weekly_sales['Total ($)'] = total_sales \n",
    "pr(weekly_sales , 'weekly_sales')"
   ]
  },
  {
   "cell_type": "code",
   "execution_count": null,
   "id": "e902cc3e",
   "metadata": {},
   "outputs": [],
   "source": []
  }
 ],
 "metadata": {
  "kernelspec": {
   "display_name": "Python 3",
   "language": "python",
   "name": "python3"
  },
  "language_info": {
   "codemirror_mode": {
    "name": "ipython",
    "version": 3
   },
   "file_extension": ".py",
   "mimetype": "text/x-python",
   "name": "python",
   "nbconvert_exporter": "python",
   "pygments_lexer": "ipython3",
   "version": "3.13.7"
  }
 },
 "nbformat": 4,
 "nbformat_minor": 5
}
