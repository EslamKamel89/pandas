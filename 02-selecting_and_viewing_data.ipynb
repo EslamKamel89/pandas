{
 "cells": [
  {
   "cell_type": "code",
   "execution_count": 1,
   "id": "53e1d45b",
   "metadata": {},
   "outputs": [],
   "source": [
    "from typing import TypeVar\n",
    "\n",
    "\n",
    "T = TypeVar('T')\n",
    "\n",
    "def pr(val : T , title:str|None = None) : # type: ignore\n",
    "    if title != None :\n",
    "        print(f\" ---------------------- {title} ---------------------- \")\n",
    "    print('type: ' , type(val))\n",
    "    print(val , '\\n')\n",
    "    # return val"
   ]
  },
  {
   "cell_type": "code",
   "execution_count": 2,
   "id": "f467e84e",
   "metadata": {},
   "outputs": [
    {
     "name": "stdout",
     "output_type": "stream",
     "text": [
      " ---------------------- car_sales.csv ---------------------- \n",
      "type:  <class 'pandas.core.frame.DataFrame'>\n",
      "     Make  Color  Odometer (KM)  Doors       Price\n",
      "0  Toyota  White         150043      4   $4,000.00\n",
      "1   Honda    Red          87899      4   $5,000.00\n",
      "2  Toyota   Blue          32549      3   $7,000.00\n",
      "3     BMW  Black          11179      5  $22,000.00\n",
      "4  Nissan  White         213095      4   $3,500.00\n",
      "5  Toyota  Green          99213      4   $4,500.00\n",
      "6   Honda   Blue          45698      4   $7,500.00\n",
      "7   Honda   Blue          54738      4   $7,000.00\n",
      "8  Toyota  White          60000      4   $6,250.00\n",
      "9  Nissan  White          31600      4   $9,700.00 \n",
      "\n"
     ]
    }
   ],
   "source": [
    "import pandas as pd\n",
    "df = pd.read_csv('./data/car-sales.csv') # type: ignore\n",
    "pr(df , 'car_sales.csv')\n"
   ]
  },
  {
   "cell_type": "markdown",
   "id": "09be02ff",
   "metadata": {},
   "source": [
    "## Viewing and selecting data"
   ]
  },
  {
   "cell_type": "code",
   "execution_count": 3,
   "id": "ae4d9de9",
   "metadata": {},
   "outputs": [
    {
     "name": "stdout",
     "output_type": "stream",
     "text": [
      " ---------------------- return the first 7 rows ---------------------- \n",
      "type:  <class 'pandas.core.frame.DataFrame'>\n",
      "     Make  Color  Odometer (KM)  Doors       Price\n",
      "0  Toyota  White         150043      4   $4,000.00\n",
      "1   Honda    Red          87899      4   $5,000.00\n",
      "2  Toyota   Blue          32549      3   $7,000.00\n",
      "3     BMW  Black          11179      5  $22,000.00\n",
      "4  Nissan  White         213095      4   $3,500.00\n",
      "5  Toyota  Green          99213      4   $4,500.00\n",
      "6   Honda   Blue          45698      4   $7,500.00 \n",
      "\n",
      " ---------------------- return the last 7 rows ---------------------- \n",
      "type:  <class 'pandas.core.frame.DataFrame'>\n",
      "     Make  Color  Odometer (KM)  Doors       Price\n",
      "3     BMW  Black          11179      5  $22,000.00\n",
      "4  Nissan  White         213095      4   $3,500.00\n",
      "5  Toyota  Green          99213      4   $4,500.00\n",
      "6   Honda   Blue          45698      4   $7,500.00\n",
      "7   Honda   Blue          54738      4   $7,000.00\n",
      "8  Toyota  White          60000      4   $6,250.00\n",
      "9  Nissan  White          31600      4   $9,700.00 \n",
      "\n"
     ]
    }
   ],
   "source": [
    "head = df.head(7)\n",
    "pr(head , 'return the first 7 rows')\n",
    "tail = df.tail(7)\n",
    "pr(tail , 'return the last 7 rows')"
   ]
  },
  {
   "cell_type": "code",
   "execution_count": 4,
   "id": "7579d0df",
   "metadata": {},
   "outputs": [
    {
     "name": "stdout",
     "output_type": "stream",
     "text": [
      " ---------------------- animals ---------------------- \n",
      "type:  <class 'pandas.core.series.Series'>\n",
      "0       dog\n",
      "3       cat\n",
      "5    pandas\n",
      "3     snake\n",
      "dtype: object \n",
      "\n",
      " ---------------------- get all animals that have index 3 ---------------------- \n",
      "type:  <class 'pandas.core.series.Series'>\n",
      "3      cat\n",
      "3    snake\n",
      "dtype: object \n",
      "\n",
      " ---------------------- get all animals that have index 5 ---------------------- \n",
      "type:  <class 'str'>\n",
      "pandas \n",
      "\n"
     ]
    }
   ],
   "source": [
    "# what's the different between .loc and .iloc methods\n",
    "# you could think of loc as shortcut for location\n",
    "animals = pd.Series(\n",
    "    data = ['dog' , 'cat' , 'pandas' , 'snake'] , \n",
    "    index = [0,3,5,3]\n",
    "    )\n",
    "pr(animals, 'animals')\n",
    "pr(animals.loc[3] , 'get all animals that have index 3')\n",
    "pr(animals.loc[5] , 'get all animals that have index 5')"
   ]
  },
  {
   "cell_type": "code",
   "execution_count": 5,
   "id": "a2d0987c",
   "metadata": {},
   "outputs": [
    {
     "name": "stdout",
     "output_type": "stream",
     "text": [
      " ---------------------- car sales data ---------------------- \n",
      "type:  <class 'pandas.core.frame.DataFrame'>\n",
      "     Make  Color  Odometer (KM)  Doors       Price\n",
      "0  Toyota  White         150043      4   $4,000.00\n",
      "1   Honda    Red          87899      4   $5,000.00\n",
      "2  Toyota   Blue          32549      3   $7,000.00\n",
      "3     BMW  Black          11179      5  $22,000.00\n",
      "4  Nissan  White         213095      4   $3,500.00\n",
      "5  Toyota  Green          99213      4   $4,500.00\n",
      "6   Honda   Blue          45698      4   $7,500.00\n",
      "7   Honda   Blue          54738      4   $7,000.00\n",
      "8  Toyota  White          60000      4   $6,250.00\n",
      "9  Nissan  White          31600      4   $9,700.00 \n",
      "\n",
      " ---------------------- return the row at index 3 ---------------------- \n",
      "type:  <class 'pandas.core.series.Series'>\n",
      "Make                    BMW\n",
      "Color                 Black\n",
      "Odometer (KM)         11179\n",
      "Doors                     5\n",
      "Price            $22,000.00\n",
      "Name: 3, dtype: object \n",
      "\n",
      " ---------------------- return the Make value from row 3 ---------------------- \n",
      "type:  <class 'str'>\n",
      "BMW \n",
      "\n"
     ]
    }
   ],
   "source": [
    "pr(df , 'car sales data')\n",
    "pr(df.loc[3], 'return the row at index 3')\n",
    "pr(df.loc[3]['Make'], 'return the Make value from row 3')"
   ]
  },
  {
   "cell_type": "code",
   "execution_count": 6,
   "id": "f63e3dda",
   "metadata": {},
   "outputs": [
    {
     "name": "stdout",
     "output_type": "stream",
     "text": [
      " ---------------------- animals ---------------------- \n",
      "type:  <class 'pandas.core.series.Series'>\n",
      "0       dog\n",
      "3       cat\n",
      "5    pandas\n",
      "3     snake\n",
      "dtype: object \n",
      "\n",
      " ---------------------- return the animal at index 3 ---------------------- \n",
      "type:  <class 'pandas.core.series.Series'>\n",
      "3      cat\n",
      "3    snake\n",
      "dtype: object \n",
      "\n",
      " ---------------------- return the animal at position 3 ---------------------- \n",
      "type:  <class 'str'>\n",
      "snake \n",
      "\n"
     ]
    }
   ],
   "source": [
    "# if you used iloc it will depend on position not index\n",
    "pr(animals , 'animals')\n",
    "pr(animals.loc[3]  , 'return the animal at index 3')\n",
    "pr(animals.iloc[3]  , 'return the animal at position 3')"
   ]
  },
  {
   "cell_type": "code",
   "execution_count": 7,
   "id": "9435eb5f",
   "metadata": {},
   "outputs": [
    {
     "name": "stdout",
     "output_type": "stream",
     "text": [
      " ---------------------- animals ---------------------- \n",
      "type:  <class 'pandas.core.series.Series'>\n",
      "0       dog\n",
      "3       cat\n",
      "5    pandas\n",
      "3     snake\n",
      "dtype: object \n",
      "\n",
      " ---------------------- return all the animals from 0 to 2 ---------------------- \n",
      "type:  <class 'pandas.core.series.Series'>\n",
      "0    dog\n",
      "3    cat\n",
      "dtype: object \n",
      "\n"
     ]
    }
   ],
   "source": [
    "# with iloc we could use slicing\n",
    "pr(animals , 'animals')\n",
    "pr(animals.iloc[:2] , 'return all the animals from 0 to 2')"
   ]
  },
  {
   "cell_type": "code",
   "execution_count": 8,
   "id": "7e4d93ea",
   "metadata": {},
   "outputs": [
    {
     "name": "stdout",
     "output_type": "stream",
     "text": [
      " ---------------------- car sales data ---------------------- \n",
      "type:  <class 'pandas.core.frame.DataFrame'>\n",
      "     Make  Color  Odometer (KM)  Doors       Price\n",
      "0  Toyota  White         150043      4   $4,000.00\n",
      "1   Honda    Red          87899      4   $5,000.00\n",
      "2  Toyota   Blue          32549      3   $7,000.00\n",
      "3     BMW  Black          11179      5  $22,000.00\n",
      "4  Nissan  White         213095      4   $3,500.00\n",
      "5  Toyota  Green          99213      4   $4,500.00\n",
      "6   Honda   Blue          45698      4   $7,500.00\n",
      "7   Honda   Blue          54738      4   $7,000.00\n",
      "8  Toyota  White          60000      4   $6,250.00\n",
      "9  Nissan  White          31600      4   $9,700.00 \n",
      "\n",
      " ---------------------- Only Make column from car sales ---------------------- \n",
      "type:  <class 'pandas.core.series.Series'>\n",
      "0    Toyota\n",
      "1     Honda\n",
      "2    Toyota\n",
      "3       BMW\n",
      "4    Nissan\n",
      "5    Toyota\n",
      "6     Honda\n",
      "7     Honda\n",
      "8    Toyota\n",
      "9    Nissan\n",
      "Name: Make, dtype: object \n",
      "\n",
      " ---------------------- Another way to select the column ---------------------- \n",
      "type:  <class 'pandas.core.series.Series'>\n",
      "0    Toyota\n",
      "1     Honda\n",
      "2    Toyota\n",
      "3       BMW\n",
      "4    Nissan\n",
      "5    Toyota\n",
      "6     Honda\n",
      "7     Honda\n",
      "8    Toyota\n",
      "9    Nissan\n",
      "Name: Make, dtype: object \n",
      "\n"
     ]
    }
   ],
   "source": [
    "# we could select a whole column\n",
    "pr(df, 'car sales data')\n",
    "pr(df['Make'] , 'Only Make column from car sales')\n",
    "pr(df.Make , 'Another way to select the column')"
   ]
  },
  {
   "cell_type": "code",
   "execution_count": 9,
   "id": "c9bab4b6",
   "metadata": {},
   "outputs": [
    {
     "name": "stdout",
     "output_type": "stream",
     "text": [
      " ---------------------- car sales ---------------------- \n",
      "type:  <class 'pandas.core.frame.DataFrame'>\n",
      "     Make  Color  Odometer (KM)  Doors       Price\n",
      "0  Toyota  White         150043      4   $4,000.00\n",
      "1   Honda    Red          87899      4   $5,000.00\n",
      "2  Toyota   Blue          32549      3   $7,000.00\n",
      "3     BMW  Black          11179      5  $22,000.00\n",
      "4  Nissan  White         213095      4   $3,500.00\n",
      "5  Toyota  Green          99213      4   $4,500.00\n",
      "6   Honda   Blue          45698      4   $7,500.00\n",
      "7   Honda   Blue          54738      4   $7,000.00\n",
      "8  Toyota  White          60000      4   $6,250.00\n",
      "9  Nissan  White          31600      4   $9,700.00 \n",
      "\n",
      " ---------------------- pick only Toyota ---------------------- \n",
      "type:  <class 'pandas.core.frame.DataFrame'>\n",
      "     Make  Color  Odometer (KM)  Doors      Price\n",
      "0  Toyota  White         150043      4  $4,000.00\n",
      "2  Toyota   Blue          32549      3  $7,000.00\n",
      "5  Toyota  Green          99213      4  $4,500.00\n",
      "8  Toyota  White          60000      4  $6,250.00 \n",
      "\n",
      " ---------------------- pick only cars that have odometer above 150000 ---------------------- \n",
      "type:  <class 'pandas.core.frame.DataFrame'>\n",
      "     Make  Color  Odometer (KM)  Doors      Price\n",
      "0  Toyota  White         150043      4  $4,000.00\n",
      "4  Nissan  White         213095      4  $3,500.00 \n",
      "\n"
     ]
    }
   ],
   "source": [
    "# we could select and filter\n",
    "# the syntax is very strange and need further explanation\n",
    "pr(df , 'car sales')\n",
    "pr(df[df['Make']=='Toyota'] , 'pick only Toyota')\n",
    "pr(df[df['Odometer (KM)'] >150000] , 'pick only cars that have odometer above 150000')"
   ]
  },
  {
   "cell_type": "code",
   "execution_count": 11,
   "id": "55b90f63",
   "metadata": {},
   "outputs": [
    {
     "name": "stdout",
     "output_type": "stream",
     "text": [
      "type:  <class 'pandas.core.series.Series'>\n",
      "0    10\n",
      "2    30\n",
      "4    50\n",
      "dtype: int64 \n",
      "\n"
     ]
    }
   ],
   "source": [
    "# experimenting with boolean indexing\n",
    "s = pd.Series([10,20,30,40,50,60])\n",
    "pr(s.loc[[True , False,True , False,True , False]])"
   ]
  },
  {
   "cell_type": "code",
   "execution_count": 13,
   "id": "ac630a2f",
   "metadata": {},
   "outputs": [
    {
     "name": "stdout",
     "output_type": "stream",
     "text": [
      " ---------------------- add 5 to each element in s ---------------------- \n",
      "type:  <class 'pandas.core.series.Series'>\n",
      "0    15\n",
      "1    25\n",
      "2    35\n",
      "3    45\n",
      "4    55\n",
      "5    65\n",
      "dtype: int64 \n",
      "\n",
      " ---------------------- check if each element equal 50 ---------------------- \n",
      "type:  <class 'pandas.core.series.Series'>\n",
      "0    False\n",
      "1    False\n",
      "2    False\n",
      "3    False\n",
      "4     True\n",
      "5    False\n",
      "dtype: bool \n",
      "\n"
     ]
    }
   ],
   "source": [
    "# we will look to new concept named broadcasting\n",
    "pr(s+5 , 'add 5 to each element in s')\n",
    "pr( s == 50 , 'check if each element equal 50')"
   ]
  },
  {
   "cell_type": "code",
   "execution_count": 15,
   "id": "9ee69428",
   "metadata": {},
   "outputs": [
    {
     "name": "stdout",
     "output_type": "stream",
     "text": [
      "type:  <class 'pandas.core.series.Series'>\n",
      "4    50\n",
      "dtype: int64 \n",
      "\n"
     ]
    }
   ],
   "source": [
    "pr(s.loc[s==50])"
   ]
  },
  {
   "cell_type": "code",
   "execution_count": null,
   "id": "1c53eadc",
   "metadata": {},
   "outputs": [],
   "source": []
  }
 ],
 "metadata": {
  "kernelspec": {
   "display_name": "Python 3",
   "language": "python",
   "name": "python3"
  },
  "language_info": {
   "codemirror_mode": {
    "name": "ipython",
    "version": 3
   },
   "file_extension": ".py",
   "mimetype": "text/x-python",
   "name": "python",
   "nbconvert_exporter": "python",
   "pygments_lexer": "ipython3",
   "version": "3.13.7"
  }
 },
 "nbformat": 4,
 "nbformat_minor": 5
}
