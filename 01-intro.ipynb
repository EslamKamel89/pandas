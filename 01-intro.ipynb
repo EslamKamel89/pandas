{
 "cells": [
  {
   "cell_type": "code",
   "execution_count": 1,
   "id": "794c3afb",
   "metadata": {},
   "outputs": [],
   "source": [
    "import pandas as pd"
   ]
  },
  {
   "cell_type": "code",
   "execution_count": 2,
   "id": "c146d509",
   "metadata": {},
   "outputs": [
    {
     "name": "stdout",
     "output_type": "stream",
     "text": [
      "0       BMW\n",
      "1    Nissan\n",
      "2    Toyota\n",
      "3     Honda\n",
      "dtype: object \n",
      "\n",
      "0      Red\n",
      "1    Green\n",
      "2     Blue\n",
      "3    White\n",
      "dtype: object\n"
     ]
    }
   ],
   "source": [
    "# 2 main datatypes \n",
    "# the first one is series data\n",
    "# series data is one dimensional\n",
    "brands = pd.Series(['BMW' , 'Nissan' , 'Toyota' , 'Honda'])\n",
    "colors = pd.Series (['Red' , 'Green' , 'Blue' , 'White'])\n",
    "print(brands , '\\n')\n",
    "print(colors)"
   ]
  },
  {
   "cell_type": "code",
   "execution_count": 3,
   "id": "bf2712e7",
   "metadata": {},
   "outputs": [
    {
     "name": "stdout",
     "output_type": "stream",
     "text": [
      "  Car make  Color\n",
      "0      BMW    Red\n",
      "1   Nissan  Green\n",
      "2   Toyota   Blue\n",
      "3    Honda  White\n"
     ]
    }
   ],
   "source": [
    "# the other type is DataFrame\n",
    "# DataFrame is 2 dimensional\n",
    "car_data = pd.DataFrame({\"Car make\" : brands , \"Color\" : colors })\n",
    "print(car_data)"
   ]
  },
  {
   "cell_type": "code",
   "execution_count": 4,
   "id": "b31d4a64",
   "metadata": {},
   "outputs": [
    {
     "name": "stdout",
     "output_type": "stream",
     "text": [
      "     Make  Color  Odometer (KM)  Doors       Price\n",
      "0  Toyota  White         150043      4   $4,000.00\n",
      "1   Honda    Red          87899      4   $5,000.00\n",
      "2  Toyota   Blue          32549      3   $7,000.00\n",
      "3     BMW  Black          11179      5  $22,000.00\n",
      "4  Nissan  White         213095      4   $3,500.00\n",
      "5  Toyota  Green          99213      4   $4,500.00\n",
      "6   Honda   Blue          45698      4   $7,500.00\n",
      "7   Honda   Blue          54738      4   $7,000.00\n",
      "8  Toyota  White          60000      4   $6,250.00\n",
      "9  Nissan  White          31600      4   $9,700.00\n"
     ]
    }
   ],
   "source": [
    "# what usually happen in the real world is you import data not create it like what we did above\n",
    "car_data = pd.read_csv('./data/car-sales.csv') # type: ignore\n",
    "print(car_data)"
   ]
  },
  {
   "cell_type": "code",
   "execution_count": 5,
   "id": "76e7d9dd",
   "metadata": {},
   "outputs": [
    {
     "name": "stdout",
     "output_type": "stream",
     "text": [
      "     Make  Color  Odometer (KM)  Doors       Price\n",
      "0  Toyota  White         150043      4   $4,000.00\n",
      "1   Honda    Red          87899      4   $5,000.00\n",
      "2  Toyota   Blue          32549      3   $7,000.00\n",
      "3     BMW  Black          11179      5  $22,000.00\n",
      "4  Nissan  White         213095      4   $3,500.00\n",
      "5  Toyota  Green          99213      4   $4,500.00\n",
      "6   Honda   Blue          45698      4   $7,500.00\n",
      "7   Honda   Blue          54738      4   $7,000.00\n",
      "8  Toyota  White          60000      4   $6,250.00\n",
      "9  Nissan  White          31600      4   $9,700.00\n"
     ]
    }
   ],
   "source": [
    "car_data.to_csv('./data/exported_sales_data.csv' , index=False)\n",
    "exported_data = pd.read_csv('./data/exported_sales_data.csv') # type: ignore\n",
    "print(exported_data)"
   ]
  },
  {
   "cell_type": "code",
   "execution_count": 6,
   "id": "90e169fe",
   "metadata": {},
   "outputs": [
    {
     "name": "stdout",
     "output_type": "stream",
     "text": [
      "-------- exported_data -------- \n",
      "      Make  Color  Odometer (KM)  Doors       Price\n",
      "0  Toyota  White         150043      4   $4,000.00\n",
      "1   Honda    Red          87899      4   $5,000.00\n",
      "2  Toyota   Blue          32549      3   $7,000.00\n",
      "3     BMW  Black          11179      5  $22,000.00\n",
      "4  Nissan  White         213095      4   $3,500.00\n",
      "5  Toyota  Green          99213      4   $4,500.00\n",
      "6   Honda   Blue          45698      4   $7,500.00\n",
      "7   Honda   Blue          54738      4   $7,000.00\n",
      "8  Toyota  White          60000      4   $6,250.00\n",
      "9  Nissan  White          31600      4   $9,700.00 \n",
      "\n",
      "\n",
      "-------- head -------- \n",
      "      Make  Color  Odometer (KM)  Doors       Price\n",
      "0  Toyota  White         150043      4   $4,000.00\n",
      "1   Honda    Red          87899      4   $5,000.00\n",
      "2  Toyota   Blue          32549      3   $7,000.00\n",
      "3     BMW  Black          11179      5  $22,000.00\n",
      "4  Nissan  White         213095      4   $3,500.00 \n",
      "\n",
      "\n",
      "<class 'pandas.core.frame.DataFrame'>\n",
      "RangeIndex: 10 entries, 0 to 9\n",
      "Data columns (total 5 columns):\n",
      " #   Column         Non-Null Count  Dtype \n",
      "---  ------         --------------  ----- \n",
      " 0   Make           10 non-null     object\n",
      " 1   Color          10 non-null     object\n",
      " 2   Odometer (KM)  10 non-null     int64 \n",
      " 3   Doors          10 non-null     int64 \n",
      " 4   Price          10 non-null     object\n",
      "dtypes: int64(2), object(3)\n",
      "memory usage: 532.0+ bytes\n",
      "-------- info -------- \n",
      " None \n",
      "\n",
      "\n",
      "-------- describe -------- \n",
      "        Odometer (KM)      Doors\n",
      "count      10.000000  10.000000\n",
      "mean    78601.400000   4.000000\n",
      "std     61983.471735   0.471405\n",
      "min     11179.000000   3.000000\n",
      "25%     35836.250000   4.000000\n",
      "50%     57369.000000   4.000000\n",
      "75%     96384.500000   4.000000\n",
      "max    213095.000000   5.000000 \n",
      "\n",
      "\n"
     ]
    }
   ],
   "source": [
    "print('-------- exported_data --------','\\n',exported_data , '\\n\\n')\n",
    "print('-------- head --------','\\n',exported_data.head() , '\\n\\n')\n",
    "print('-------- info --------','\\n',exported_data.info() , '\\n\\n') \n",
    "print('-------- describe --------','\\n',exported_data.describe() , '\\n\\n')"
   ]
  },
  {
   "cell_type": "markdown",
   "id": "fb98b16f",
   "metadata": {},
   "source": [
    "## Describe data"
   ]
  },
  {
   "cell_type": "code",
   "execution_count": null,
   "id": "b86a5bd5",
   "metadata": {},
   "outputs": [
    {
     "name": "stdout",
     "output_type": "stream",
     "text": [
      "object <class 'numpy.dtypes.ObjectDType'>\n",
      "object <class 'numpy.dtypes.ObjectDType'>\n",
      "int64 <class 'numpy.dtypes.Int64DType'>\n",
      "int64 <class 'numpy.dtypes.Int64DType'>\n",
      "object <class 'numpy.dtypes.ObjectDType'>\n"
     ]
    },
    {
     "data": {
      "text/plain": [
       "[None, None, None, None, None]"
      ]
     },
     "execution_count": 12,
     "metadata": {},
     "output_type": "execute_result"
    }
   ],
   "source": [
    "types = car_data.dtypes\n",
    "[print(t , type(t)) for t in types] # type: ignore"
   ]
  },
  {
   "cell_type": "code",
   "execution_count": 13,
   "id": "84869b00",
   "metadata": {},
   "outputs": [
    {
     "name": "stdout",
     "output_type": "stream",
     "text": [
      "Make <class 'str'>\n",
      "Color <class 'str'>\n",
      "Odometer (KM) <class 'str'>\n",
      "Doors <class 'str'>\n",
      "Price <class 'str'>\n"
     ]
    },
    {
     "data": {
      "text/plain": [
       "[None, None, None, None, None]"
      ]
     },
     "execution_count": 13,
     "metadata": {},
     "output_type": "execute_result"
    }
   ],
   "source": [
    "columns = car_data.columns\n",
    "[print(column , type(column)) for column in columns]"
   ]
  },
  {
   "cell_type": "code",
   "execution_count": null,
   "id": "1f59edcf",
   "metadata": {},
   "outputs": [
    {
     "name": "stdout",
     "output_type": "stream",
     "text": [
      "0 <class 'int'>\n",
      "1 <class 'int'>\n",
      "2 <class 'int'>\n",
      "3 <class 'int'>\n",
      "4 <class 'int'>\n",
      "5 <class 'int'>\n",
      "6 <class 'int'>\n",
      "7 <class 'int'>\n",
      "8 <class 'int'>\n",
      "9 <class 'int'>\n"
     ]
    },
    {
     "data": {
      "text/plain": [
       "[None, None, None, None, None, None, None, None, None, None]"
      ]
     },
     "execution_count": 14,
     "metadata": {},
     "output_type": "execute_result"
    }
   ],
   "source": [
    "index = car_data.index\n",
    "[print(i , type(i)) for i in index] # type: ignore"
   ]
  },
  {
   "cell_type": "code",
   "execution_count": 15,
   "id": "5d3b8c38",
   "metadata": {},
   "outputs": [
    {
     "name": "stdout",
     "output_type": "stream",
     "text": [
      "       Odometer (KM)      Doors\n",
      "count      10.000000  10.000000\n",
      "mean    78601.400000   4.000000\n",
      "std     61983.471735   0.471405\n",
      "min     11179.000000   3.000000\n",
      "25%     35836.250000   4.000000\n",
      "50%     57369.000000   4.000000\n",
      "75%     96384.500000   4.000000\n",
      "max    213095.000000   5.000000\n"
     ]
    }
   ],
   "source": [
    "description  = car_data.describe()\n",
    "print(description)"
   ]
  },
  {
   "cell_type": "code",
   "execution_count": 18,
   "id": "10d44c6a",
   "metadata": {},
   "outputs": [
    {
     "name": "stdout",
     "output_type": "stream",
     "text": [
      "<class 'pandas.core.frame.DataFrame'>\n",
      "RangeIndex: 10 entries, 0 to 9\n",
      "Data columns (total 5 columns):\n",
      " #   Column         Non-Null Count  Dtype \n",
      "---  ------         --------------  ----- \n",
      " 0   Make           10 non-null     object\n",
      " 1   Color          10 non-null     object\n",
      " 2   Odometer (KM)  10 non-null     int64 \n",
      " 3   Doors          10 non-null     int64 \n",
      " 4   Price          10 non-null     object\n",
      "dtypes: int64(2), object(3)\n",
      "memory usage: 532.0+ bytes\n"
     ]
    }
   ],
   "source": [
    "car_data.info()"
   ]
  },
  {
   "cell_type": "code",
   "execution_count": 20,
   "id": "dbc26a7f",
   "metadata": {},
   "outputs": [
    {
     "name": "stdout",
     "output_type": "stream",
     "text": [
      "0     75023.5\n",
      "1     43951.5\n",
      "2     16276.0\n",
      "3      5592.0\n",
      "4    106549.5\n",
      "5     49608.5\n",
      "6     22851.0\n",
      "7     27371.0\n",
      "8     30002.0\n",
      "9     15802.0\n",
      "dtype: float64\n"
     ]
    }
   ],
   "source": [
    "mean = car_data.mean(1 , numeric_only=True)\n",
    "print(mean)"
   ]
  },
  {
   "cell_type": "code",
   "execution_count": 21,
   "id": "5b0b7ed6",
   "metadata": {},
   "outputs": [
    {
     "name": "stdout",
     "output_type": "stream",
     "text": [
      "350.0\n",
      "350.0\n",
      "600\n",
      "100\n"
     ]
    }
   ],
   "source": [
    "car_prices = pd.Series([100,200,300,400,500,600])\n",
    "print(car_prices.mean())\n",
    "print(car_prices.median())\n",
    "print(car_prices.max())\n",
    "print(car_prices.min())"
   ]
  },
  {
   "cell_type": "code",
   "execution_count": 23,
   "id": "2db4acf4",
   "metadata": {},
   "outputs": [
    {
     "data": {
      "text/plain": [
       "Make             ToyotaHondaToyotaBMWNissanToyotaHondaHondaToyo...\n",
       "Color                WhiteRedBlueBlackWhiteGreenBlueBlueWhiteWhite\n",
       "Odometer (KM)                                               786014\n",
       "Doors                                                           40\n",
       "Price            $4,000.00$5,000.00$7,000.00$22,000.00$3,500.00...\n",
       "dtype: object"
      ]
     },
     "execution_count": 23,
     "metadata": {},
     "output_type": "execute_result"
    }
   ],
   "source": [
    "car_data.sum()"
   ]
  },
  {
   "cell_type": "markdown",
   "id": "812dc2f4",
   "metadata": {},
   "source": [
    "## Quick inspection: the essentials"
   ]
  },
  {
   "cell_type": "code",
   "execution_count": 43,
   "id": "749cca2c",
   "metadata": {},
   "outputs": [],
   "source": [
    "from typing import   TypeVar\n",
    "T = TypeVar('T')\n",
    "\n",
    "def pr(val:T , title:str):\n",
    "    print(f\"\\n --------------------- {title} --------------------- \")\n",
    "    print(f\"Type: {type(val)}\")\n",
    "    print(val , '\\n')\n",
    "    # return val"
   ]
  },
  {
   "cell_type": "code",
   "execution_count": 37,
   "id": "7e00e603",
   "metadata": {},
   "outputs": [
    {
     "name": "stdout",
     "output_type": "stream",
     "text": [
      "\n",
      " --------------------- df.shape --------------------- \n",
      "Type: <class 'tuple'>\n",
      "(10, 5) \n",
      "\n",
      "\n",
      " --------------------- df.columns --------------------- \n",
      "Type: <class 'pandas.core.indexes.base.Index'>\n",
      "Index(['Make', 'Color', 'Odometer (KM)', 'Doors', 'Price'], dtype='object') \n",
      "\n",
      "\n",
      " --------------------- df.index --------------------- \n",
      "Type: <class 'pandas.core.indexes.range.RangeIndex'>\n",
      "RangeIndex(start=0, stop=10, step=1) \n",
      "\n",
      "\n",
      " --------------------- df.dtypes --------------------- \n",
      "Type: <class 'pandas.core.series.Series'>\n",
      "Make             object\n",
      "Color            object\n",
      "Odometer (KM)     int64\n",
      "Doors             int64\n",
      "Price            object\n",
      "dtype: object \n",
      "\n"
     ]
    },
    {
     "data": {
      "text/plain": [
       "Make             object\n",
       "Color            object\n",
       "Odometer (KM)     int64\n",
       "Doors             int64\n",
       "Price            object\n",
       "dtype: object"
      ]
     },
     "execution_count": 37,
     "metadata": {},
     "output_type": "execute_result"
    }
   ],
   "source": [
    "df = pd.read_csv('./data/car-sales.csv') # type: ignore\n",
    "# structure and types \n",
    "pr( df.shape , 'df.shape')\n",
    "pr( df.columns , 'df.columns')\n",
    "pr( df.index , 'df.index')\n",
    "pr( df.dtypes , 'df.dtypes')"
   ]
  },
  {
   "cell_type": "code",
   "execution_count": 40,
   "id": "f693e726",
   "metadata": {},
   "outputs": [
    {
     "name": "stdout",
     "output_type": "stream",
     "text": [
      "<class 'pandas.core.frame.DataFrame'>\n",
      "RangeIndex: 10 entries, 0 to 9\n",
      "Data columns (total 5 columns):\n",
      " #   Column         Non-Null Count  Dtype \n",
      "---  ------         --------------  ----- \n",
      " 0   Make           10 non-null     object\n",
      " 1   Color          10 non-null     object\n",
      " 2   Odometer (KM)  10 non-null     int64 \n",
      " 3   Doors          10 non-null     int64 \n",
      " 4   Price          10 non-null     object\n",
      "dtypes: int64(2), object(3)\n",
      "memory usage: 532.0+ bytes\n",
      "\n",
      " --------------------- df.info() --------------------- \n",
      "Type: <class 'NoneType'>\n",
      "None \n",
      "\n",
      "\n",
      " --------------------- df.describe() --------------------- \n",
      "Type: <class 'pandas.core.frame.DataFrame'>\n",
      "       Odometer (KM)      Doors\n",
      "count      10.000000  10.000000\n",
      "mean    78601.400000   4.000000\n",
      "std     61983.471735   0.471405\n",
      "min     11179.000000   3.000000\n",
      "25%     35836.250000   4.000000\n",
      "50%     57369.000000   4.000000\n",
      "75%     96384.500000   4.000000\n",
      "max    213095.000000   5.000000 \n",
      "\n",
      "\n",
      " --------------------- df.describe(include=object) --------------------- \n",
      "Type: <class 'pandas.core.frame.DataFrame'>\n",
      "          Make  Color      Price\n",
      "count       10     10         10\n",
      "unique       4      5          9\n",
      "top     Toyota  White  $7,000.00\n",
      "freq         4      4          2 \n",
      "\n"
     ]
    },
    {
     "data": {
      "text/html": [
       "<div>\n",
       "<style scoped>\n",
       "    .dataframe tbody tr th:only-of-type {\n",
       "        vertical-align: middle;\n",
       "    }\n",
       "\n",
       "    .dataframe tbody tr th {\n",
       "        vertical-align: top;\n",
       "    }\n",
       "\n",
       "    .dataframe thead th {\n",
       "        text-align: right;\n",
       "    }\n",
       "</style>\n",
       "<table border=\"1\" class=\"dataframe\">\n",
       "  <thead>\n",
       "    <tr style=\"text-align: right;\">\n",
       "      <th></th>\n",
       "      <th>Make</th>\n",
       "      <th>Color</th>\n",
       "      <th>Price</th>\n",
       "    </tr>\n",
       "  </thead>\n",
       "  <tbody>\n",
       "    <tr>\n",
       "      <th>count</th>\n",
       "      <td>10</td>\n",
       "      <td>10</td>\n",
       "      <td>10</td>\n",
       "    </tr>\n",
       "    <tr>\n",
       "      <th>unique</th>\n",
       "      <td>4</td>\n",
       "      <td>5</td>\n",
       "      <td>9</td>\n",
       "    </tr>\n",
       "    <tr>\n",
       "      <th>top</th>\n",
       "      <td>Toyota</td>\n",
       "      <td>White</td>\n",
       "      <td>$7,000.00</td>\n",
       "    </tr>\n",
       "    <tr>\n",
       "      <th>freq</th>\n",
       "      <td>4</td>\n",
       "      <td>4</td>\n",
       "      <td>2</td>\n",
       "    </tr>\n",
       "  </tbody>\n",
       "</table>\n",
       "</div>"
      ],
      "text/plain": [
       "          Make  Color      Price\n",
       "count       10     10         10\n",
       "unique       4      5          9\n",
       "top     Toyota  White  $7,000.00\n",
       "freq         4      4          2"
      ]
     },
     "execution_count": 40,
     "metadata": {},
     "output_type": "execute_result"
    }
   ],
   "source": [
    "# Integrated summary\n",
    "pr(df.info() , 'df.info()')\n",
    "# Numeric Stats only \n",
    "pr(df.describe() , 'df.describe()')\n",
    "pr(df.describe(include='object') , 'df.describe(include=object)')"
   ]
  },
  {
   "cell_type": "code",
   "execution_count": 48,
   "id": "4a617849",
   "metadata": {},
   "outputs": [
    {
     "name": "stdout",
     "output_type": "stream",
     "text": [
      "\n",
      " --------------------- mean --------------------- \n",
      "Type: <class 'pandas.core.series.Series'>\n",
      "Odometer (KM)    78601.4\n",
      "Doors                4.0\n",
      "dtype: float64 \n",
      "\n",
      "\n",
      " --------------------- median --------------------- \n",
      "Type: <class 'pandas.core.series.Series'>\n",
      "Odometer (KM)    57369.0\n",
      "Doors                4.0\n",
      "dtype: float64 \n",
      "\n",
      "\n",
      " --------------------- sum --------------------- \n",
      "Type: <class 'pandas.core.series.Series'>\n",
      "Odometer (KM)    786014\n",
      "Doors                40\n",
      "dtype: int64 \n",
      "\n",
      "\n",
      " --------------------- min --------------------- \n",
      "Type: <class 'pandas.core.series.Series'>\n",
      "Odometer (KM)    11179\n",
      "Doors                3\n",
      "dtype: int64 \n",
      "\n",
      "\n",
      " --------------------- max --------------------- \n",
      "Type: <class 'pandas.core.series.Series'>\n",
      "Odometer (KM)    213095\n",
      "Doors                 5\n",
      "dtype: int64 \n",
      "\n"
     ]
    }
   ],
   "source": [
    "pr(df.mean(numeric_only=True) , 'mean')\n",
    "pr(df.median(numeric_only=True) , 'median')\n",
    "pr(df.sum(numeric_only=True) , 'sum')\n",
    "pr(df.min(numeric_only=True) , 'min')\n",
    "pr(df.max(numeric_only=True) , 'max')\n"
   ]
  },
  {
   "cell_type": "code",
   "execution_count": 49,
   "id": "876afa78",
   "metadata": {},
   "outputs": [
    {
     "data": {
      "text/plain": [
       "np.int64(40)"
      ]
     },
     "execution_count": 49,
     "metadata": {},
     "output_type": "execute_result"
    }
   ],
   "source": [
    "df['Doors'].sum()"
   ]
  },
  {
   "cell_type": "code",
   "execution_count": 50,
   "id": "959d4648",
   "metadata": {},
   "outputs": [],
   "source": [
    "price_clean = (\n",
    "    df[\"Price\"]\n",
    "      .astype(str)\n",
    "      .str.replace(r\"[^0-9.\\-]\", \"\", regex=True)     # keep digits, dot, minus\n",
    ")\n",
    "df[\"Price_num\"] = pd.to_numeric(price_clean, errors=\"coerce\") # type: ignore"
   ]
  },
  {
   "cell_type": "code",
   "execution_count": 52,
   "id": "ecab2d19",
   "metadata": {},
   "outputs": [
    {
     "name": "stdout",
     "output_type": "stream",
     "text": [
      "Shape: (10, 6)\n"
     ]
    },
    {
     "data": {
      "text/html": [
       "<div>\n",
       "<style scoped>\n",
       "    .dataframe tbody tr th:only-of-type {\n",
       "        vertical-align: middle;\n",
       "    }\n",
       "\n",
       "    .dataframe tbody tr th {\n",
       "        vertical-align: top;\n",
       "    }\n",
       "\n",
       "    .dataframe thead th {\n",
       "        text-align: right;\n",
       "    }\n",
       "</style>\n",
       "<table border=\"1\" class=\"dataframe\">\n",
       "  <thead>\n",
       "    <tr style=\"text-align: right;\">\n",
       "      <th></th>\n",
       "      <th>Make</th>\n",
       "      <th>Color</th>\n",
       "      <th>Odometer (KM)</th>\n",
       "      <th>Doors</th>\n",
       "      <th>Price</th>\n",
       "      <th>Price_num</th>\n",
       "    </tr>\n",
       "  </thead>\n",
       "  <tbody>\n",
       "    <tr>\n",
       "      <th>0</th>\n",
       "      <td>Toyota</td>\n",
       "      <td>White</td>\n",
       "      <td>150043</td>\n",
       "      <td>4</td>\n",
       "      <td>$4,000.00</td>\n",
       "      <td>4000.0</td>\n",
       "    </tr>\n",
       "    <tr>\n",
       "      <th>1</th>\n",
       "      <td>Honda</td>\n",
       "      <td>Red</td>\n",
       "      <td>87899</td>\n",
       "      <td>4</td>\n",
       "      <td>$5,000.00</td>\n",
       "      <td>5000.0</td>\n",
       "    </tr>\n",
       "    <tr>\n",
       "      <th>2</th>\n",
       "      <td>Toyota</td>\n",
       "      <td>Blue</td>\n",
       "      <td>32549</td>\n",
       "      <td>3</td>\n",
       "      <td>$7,000.00</td>\n",
       "      <td>7000.0</td>\n",
       "    </tr>\n",
       "    <tr>\n",
       "      <th>3</th>\n",
       "      <td>BMW</td>\n",
       "      <td>Black</td>\n",
       "      <td>11179</td>\n",
       "      <td>5</td>\n",
       "      <td>$22,000.00</td>\n",
       "      <td>22000.0</td>\n",
       "    </tr>\n",
       "    <tr>\n",
       "      <th>4</th>\n",
       "      <td>Nissan</td>\n",
       "      <td>White</td>\n",
       "      <td>213095</td>\n",
       "      <td>4</td>\n",
       "      <td>$3,500.00</td>\n",
       "      <td>3500.0</td>\n",
       "    </tr>\n",
       "  </tbody>\n",
       "</table>\n",
       "</div>"
      ],
      "text/plain": [
       "     Make  Color  Odometer (KM)  Doors       Price  Price_num\n",
       "0  Toyota  White         150043      4   $4,000.00     4000.0\n",
       "1   Honda    Red          87899      4   $5,000.00     5000.0\n",
       "2  Toyota   Blue          32549      3   $7,000.00     7000.0\n",
       "3     BMW  Black          11179      5  $22,000.00    22000.0\n",
       "4  Nissan  White         213095      4   $3,500.00     3500.0"
      ]
     },
     "metadata": {},
     "output_type": "display_data"
    },
    {
     "name": "stdout",
     "output_type": "stream",
     "text": [
      "<class 'pandas.core.frame.DataFrame'>\n",
      "RangeIndex: 10 entries, 0 to 9\n",
      "Data columns (total 6 columns):\n",
      " #   Column         Non-Null Count  Dtype  \n",
      "---  ------         --------------  -----  \n",
      " 0   Make           10 non-null     object \n",
      " 1   Color          10 non-null     object \n",
      " 2   Odometer (KM)  10 non-null     int64  \n",
      " 3   Doors          10 non-null     int64  \n",
      " 4   Price          10 non-null     object \n",
      " 5   Price_num      10 non-null     float64\n",
      "dtypes: float64(1), int64(2), object(3)\n",
      "memory usage: 612.0+ bytes\n"
     ]
    },
    {
     "data": {
      "text/plain": [
       "None"
      ]
     },
     "metadata": {},
     "output_type": "display_data"
    },
    {
     "data": {
      "text/html": [
       "<div>\n",
       "<style scoped>\n",
       "    .dataframe tbody tr th:only-of-type {\n",
       "        vertical-align: middle;\n",
       "    }\n",
       "\n",
       "    .dataframe tbody tr th {\n",
       "        vertical-align: top;\n",
       "    }\n",
       "\n",
       "    .dataframe thead th {\n",
       "        text-align: right;\n",
       "    }\n",
       "</style>\n",
       "<table border=\"1\" class=\"dataframe\">\n",
       "  <thead>\n",
       "    <tr style=\"text-align: right;\">\n",
       "      <th></th>\n",
       "      <th>Odometer (KM)</th>\n",
       "      <th>Doors</th>\n",
       "      <th>Price_num</th>\n",
       "    </tr>\n",
       "  </thead>\n",
       "  <tbody>\n",
       "    <tr>\n",
       "      <th>count</th>\n",
       "      <td>10.000000</td>\n",
       "      <td>10.000000</td>\n",
       "      <td>10.000000</td>\n",
       "    </tr>\n",
       "    <tr>\n",
       "      <th>mean</th>\n",
       "      <td>78601.400000</td>\n",
       "      <td>4.000000</td>\n",
       "      <td>7645.000000</td>\n",
       "    </tr>\n",
       "    <tr>\n",
       "      <th>std</th>\n",
       "      <td>61983.471735</td>\n",
       "      <td>0.471405</td>\n",
       "      <td>5379.407753</td>\n",
       "    </tr>\n",
       "    <tr>\n",
       "      <th>min</th>\n",
       "      <td>11179.000000</td>\n",
       "      <td>3.000000</td>\n",
       "      <td>3500.000000</td>\n",
       "    </tr>\n",
       "    <tr>\n",
       "      <th>25%</th>\n",
       "      <td>35836.250000</td>\n",
       "      <td>4.000000</td>\n",
       "      <td>4625.000000</td>\n",
       "    </tr>\n",
       "    <tr>\n",
       "      <th>50%</th>\n",
       "      <td>57369.000000</td>\n",
       "      <td>4.000000</td>\n",
       "      <td>6625.000000</td>\n",
       "    </tr>\n",
       "    <tr>\n",
       "      <th>75%</th>\n",
       "      <td>96384.500000</td>\n",
       "      <td>4.000000</td>\n",
       "      <td>7375.000000</td>\n",
       "    </tr>\n",
       "    <tr>\n",
       "      <th>max</th>\n",
       "      <td>213095.000000</td>\n",
       "      <td>5.000000</td>\n",
       "      <td>22000.000000</td>\n",
       "    </tr>\n",
       "  </tbody>\n",
       "</table>\n",
       "</div>"
      ],
      "text/plain": [
       "       Odometer (KM)      Doors     Price_num\n",
       "count      10.000000  10.000000     10.000000\n",
       "mean    78601.400000   4.000000   7645.000000\n",
       "std     61983.471735   0.471405   5379.407753\n",
       "min     11179.000000   3.000000   3500.000000\n",
       "25%     35836.250000   4.000000   4625.000000\n",
       "50%     57369.000000   4.000000   6625.000000\n",
       "75%     96384.500000   4.000000   7375.000000\n",
       "max    213095.000000   5.000000  22000.000000"
      ]
     },
     "metadata": {},
     "output_type": "display_data"
    },
    {
     "data": {
      "text/html": [
       "<div>\n",
       "<style scoped>\n",
       "    .dataframe tbody tr th:only-of-type {\n",
       "        vertical-align: middle;\n",
       "    }\n",
       "\n",
       "    .dataframe tbody tr th {\n",
       "        vertical-align: top;\n",
       "    }\n",
       "\n",
       "    .dataframe thead th {\n",
       "        text-align: right;\n",
       "    }\n",
       "</style>\n",
       "<table border=\"1\" class=\"dataframe\">\n",
       "  <thead>\n",
       "    <tr style=\"text-align: right;\">\n",
       "      <th></th>\n",
       "      <th>Make</th>\n",
       "      <th>Color</th>\n",
       "      <th>Price</th>\n",
       "    </tr>\n",
       "  </thead>\n",
       "  <tbody>\n",
       "    <tr>\n",
       "      <th>count</th>\n",
       "      <td>10</td>\n",
       "      <td>10</td>\n",
       "      <td>10</td>\n",
       "    </tr>\n",
       "    <tr>\n",
       "      <th>unique</th>\n",
       "      <td>4</td>\n",
       "      <td>5</td>\n",
       "      <td>9</td>\n",
       "    </tr>\n",
       "    <tr>\n",
       "      <th>top</th>\n",
       "      <td>Toyota</td>\n",
       "      <td>White</td>\n",
       "      <td>$7,000.00</td>\n",
       "    </tr>\n",
       "    <tr>\n",
       "      <th>freq</th>\n",
       "      <td>4</td>\n",
       "      <td>4</td>\n",
       "      <td>2</td>\n",
       "    </tr>\n",
       "  </tbody>\n",
       "</table>\n",
       "</div>"
      ],
      "text/plain": [
       "          Make  Color      Price\n",
       "count       10     10         10\n",
       "unique       4      5          9\n",
       "top     Toyota  White  $7,000.00\n",
       "freq         4      4          2"
      ]
     },
     "metadata": {},
     "output_type": "display_data"
    },
    {
     "name": "stdout",
     "output_type": "stream",
     "text": [
      "\n",
      "Missingness (top 10):\n"
     ]
    },
    {
     "data": {
      "text/plain": [
       "Make             0.0\n",
       "Color            0.0\n",
       "Odometer (KM)    0.0\n",
       "Doors            0.0\n",
       "Price            0.0\n",
       "Price_num        0.0\n",
       "dtype: float64"
      ]
     },
     "metadata": {},
     "output_type": "display_data"
    },
    {
     "name": "stdout",
     "output_type": "stream",
     "text": [
      "\n",
      "Cardinality:\n"
     ]
    },
    {
     "data": {
      "text/plain": [
       "Odometer (KM)    10\n",
       "Price             9\n",
       "Price_num         9\n",
       "Color             5\n",
       "Make              4\n",
       "Doors             3\n",
       "dtype: int64"
      ]
     },
     "metadata": {},
     "output_type": "display_data"
    }
   ],
   "source": [
    "print(\"Shape:\", df.shape)\n",
    "display(df.head())              # first look\n",
    "display(df.info() )                      # types + nulls + memory\n",
    "display(df.describe())          # numeric stats\n",
    "display(df.describe(include=\"object\"))  # object stats\n",
    "\n",
    "print(\"\\nMissingness (top 10):\")\n",
    "display(df.isna().mean().sort_values(ascending=False).head(10))\n",
    "\n",
    "print(\"\\nCardinality:\")\n",
    "display(df.nunique().sort_values(ascending=False).head(10))"
   ]
  },
  {
   "cell_type": "code",
   "execution_count": null,
   "id": "aec26a25",
   "metadata": {},
   "outputs": [],
   "source": []
  }
 ],
 "metadata": {
  "kernelspec": {
   "display_name": "Python 3",
   "language": "python",
   "name": "python3"
  },
  "language_info": {
   "codemirror_mode": {
    "name": "ipython",
    "version": 3
   },
   "file_extension": ".py",
   "mimetype": "text/x-python",
   "name": "python",
   "nbconvert_exporter": "python",
   "pygments_lexer": "ipython3",
   "version": "3.13.7"
  }
 },
 "nbformat": 4,
 "nbformat_minor": 5
}
