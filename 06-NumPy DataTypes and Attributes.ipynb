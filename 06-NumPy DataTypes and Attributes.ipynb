{
 "cells": [
  {
   "cell_type": "code",
   "execution_count": 2,
   "id": "5a57f012",
   "metadata": {},
   "outputs": [],
   "source": [
    "from typing import TypeVar\n",
    "\n",
    "\n",
    "T = TypeVar('T')\n",
    "\n",
    "def pr(val : T , title:str|None = None) : # type: ignore\n",
    "    if title != None :\n",
    "        print(f\" ---------------------- {title} ---------------------- \")\n",
    "    print('type: ' , type(val))\n",
    "    print(val , '\\n')\n",
    "    # return val\n"
   ]
  },
  {
   "cell_type": "code",
   "execution_count": 4,
   "id": "e4577883",
   "metadata": {},
   "outputs": [],
   "source": [
    "import numpy as np # type: ignore"
   ]
  },
  {
   "cell_type": "code",
   "execution_count": 5,
   "id": "e63f5711",
   "metadata": {},
   "outputs": [
    {
     "name": "stdout",
     "output_type": "stream",
     "text": [
      " ---------------------- Our first numpy array ---------------------- \n",
      "type:  <class 'numpy.ndarray'>\n",
      "[1 2 3 4 5 6 7 8 9] \n",
      "\n"
     ]
    }
   ],
   "source": [
    "## Data types and attributes.\n",
    "# Numpy main data type is ndarray\n",
    "a1 = np.array([1,2,3,4,5,6,7,8,9])\n",
    "pr(a1 , 'Our first numpy array')"
   ]
  },
  {
   "cell_type": "code",
   "execution_count": 8,
   "id": "01544ca6",
   "metadata": {},
   "outputs": [
    {
     "name": "stdout",
     "output_type": "stream",
     "text": [
      " ---------------------- a2 ---------------------- \n",
      "type:  <class 'numpy.ndarray'>\n",
      "[[1.  2.  3.2]\n",
      " [2.  3.  6. ]] \n",
      "\n",
      " ---------------------- a3 ---------------------- \n",
      "type:  <class 'numpy.ndarray'>\n",
      "[[[ 1  2  3]\n",
      "  [ 4  5  6]\n",
      "  [ 7  8  9]]\n",
      "\n",
      " [[10 11 12]\n",
      "  [13 14 15]\n",
      "  [16 17 18]]] \n",
      "\n"
     ]
    }
   ],
   "source": [
    "# let's experiment wih n dimensional arrays\n",
    "a2  = np.array([\n",
    "    [1.0,2.0,3.2] , \n",
    "    [2.0,3.0,6.0]\n",
    "])\n",
    "pr(a2 , 'a2')\n",
    "a3 = np.array([\n",
    "    [[1, 2, 3],[4, 5, 6],[7, 8, 9]],\n",
    "    [[10, 11, 12],[13, 14, 15],[16, 17, 18]]\n",
    "    ])\n",
    "pr(a3 , 'a3')"
   ]
  },
  {
   "cell_type": "code",
   "execution_count": 9,
   "id": "5c0ef0ac",
   "metadata": {},
   "outputs": [
    {
     "name": "stdout",
     "output_type": "stream",
     "text": [
      " ---------------------- a1.shape ---------------------- \n",
      "type:  <class 'tuple'>\n",
      "(9,) \n",
      "\n",
      " ---------------------- a2.shape ---------------------- \n",
      "type:  <class 'tuple'>\n",
      "(2, 3) \n",
      "\n",
      " ---------------------- a3.shape ---------------------- \n",
      "type:  <class 'tuple'>\n",
      "(2, 3, 3) \n",
      "\n"
     ]
    }
   ],
   "source": [
    "pr(a1.shape , 'a1.shape')\n",
    "pr(a2.shape , 'a2.shape')\n",
    "pr(a3.shape , 'a3.shape')"
   ]
  },
  {
   "cell_type": "code",
   "execution_count": 10,
   "id": "e207779c",
   "metadata": {},
   "outputs": [
    {
     "name": "stdout",
     "output_type": "stream",
     "text": [
      " ---------------------- a1.ndim ---------------------- \n",
      "type:  <class 'int'>\n",
      "1 \n",
      "\n",
      " ---------------------- a2.ndim ---------------------- \n",
      "type:  <class 'int'>\n",
      "2 \n",
      "\n",
      " ---------------------- a3.ndim ---------------------- \n",
      "type:  <class 'int'>\n",
      "3 \n",
      "\n"
     ]
    }
   ],
   "source": [
    "pr(a1.ndim , 'a1.ndim')\n",
    "pr(a2.ndim , 'a2.ndim')\n",
    "pr(a3.ndim , 'a3.ndim')\n"
   ]
  },
  {
   "cell_type": "code",
   "execution_count": 11,
   "id": "f6b83505",
   "metadata": {},
   "outputs": [
    {
     "name": "stdout",
     "output_type": "stream",
     "text": [
      " ---------------------- a1.dtype ---------------------- \n",
      "type:  <class 'numpy.dtypes.Int64DType'>\n",
      "int64 \n",
      "\n",
      " ---------------------- a2.dtype ---------------------- \n",
      "type:  <class 'numpy.dtypes.Float64DType'>\n",
      "float64 \n",
      "\n",
      " ---------------------- a3.dtype ---------------------- \n",
      "type:  <class 'numpy.dtypes.Int64DType'>\n",
      "int64 \n",
      "\n"
     ]
    }
   ],
   "source": [
    "pr(a1.dtype , 'a1.dtype')\n",
    "pr(a2.dtype , 'a2.dtype')\n",
    "pr(a3.dtype , 'a3.dtype')\n"
   ]
  },
  {
   "cell_type": "code",
   "execution_count": 12,
   "id": "5f454d77",
   "metadata": {},
   "outputs": [
    {
     "name": "stdout",
     "output_type": "stream",
     "text": [
      " ---------------------- a1.size ---------------------- \n",
      "type:  <class 'int'>\n",
      "9 \n",
      "\n",
      " ---------------------- a2.size ---------------------- \n",
      "type:  <class 'int'>\n",
      "6 \n",
      "\n",
      " ---------------------- a3.size ---------------------- \n",
      "type:  <class 'int'>\n",
      "18 \n",
      "\n"
     ]
    }
   ],
   "source": [
    "pr(a1.size , 'a1.size')\n",
    "pr(a2.size , 'a2.size')\n",
    "pr(a3.size , 'a3.size')\n"
   ]
  },
  {
   "cell_type": "code",
   "execution_count": 13,
   "id": "71ffa7f4",
   "metadata": {},
   "outputs": [
    {
     "name": "stdout",
     "output_type": "stream",
     "text": [
      " ---------------------- type(a1) ---------------------- \n",
      "type:  <class 'type'>\n",
      "<class 'numpy.ndarray'> \n",
      "\n",
      " ---------------------- type(a2) ---------------------- \n",
      "type:  <class 'type'>\n",
      "<class 'numpy.ndarray'> \n",
      "\n",
      " ---------------------- type(a3) ---------------------- \n",
      "type:  <class 'type'>\n",
      "<class 'numpy.ndarray'> \n",
      "\n"
     ]
    }
   ],
   "source": [
    "pr(type(a1) , 'type(a1)')\n",
    "pr(type(a2) , 'type(a2)')\n",
    "pr(type(a3) , 'type(a3)')\n"
   ]
  },
  {
   "cell_type": "code",
   "execution_count": 15,
   "id": "95292ee9",
   "metadata": {},
   "outputs": [
    {
     "name": "stdout",
     "output_type": "stream",
     "text": [
      "type:  <class 'pandas.core.frame.DataFrame'>\n",
      "     0    1    2\n",
      "0  1.0  2.0  3.2\n",
      "1  2.0  3.0  6.0 \n",
      "\n"
     ]
    }
   ],
   "source": [
    "# Create a data frame from a numpy\n",
    "import pandas as pd\n",
    "df2 = pd.DataFrame(a2)\n",
    "pr(df2)"
   ]
  },
  {
   "cell_type": "code",
   "execution_count": null,
   "id": "d1d2f15e",
   "metadata": {},
   "outputs": [
    {
     "ename": "ValueError",
     "evalue": "Must pass 2-d input. shape=(2, 3, 3)",
     "output_type": "error",
     "traceback": [
      "\u001b[31m---------------------------------------------------------------------------\u001b[39m",
      "\u001b[31mValueError\u001b[39m                                Traceback (most recent call last)",
      "\u001b[36mCell\u001b[39m\u001b[36m \u001b[39m\u001b[32mIn[16]\u001b[39m\u001b[32m, line 1\u001b[39m\n\u001b[32m----> \u001b[39m\u001b[32m1\u001b[39m df3 = \u001b[43mpd\u001b[49m\u001b[43m.\u001b[49m\u001b[43mDataFrame\u001b[49m\u001b[43m(\u001b[49m\u001b[43ma3\u001b[49m\u001b[43m)\u001b[49m\n\u001b[32m      2\u001b[39m pr(df3)\n",
      "\u001b[36mFile \u001b[39m\u001b[32md:\\windows\\my_projects\\python\\pandas\\env\\Lib\\site-packages\\pandas\\core\\frame.py:827\u001b[39m, in \u001b[36mDataFrame.__init__\u001b[39m\u001b[34m(self, data, index, columns, dtype, copy)\u001b[39m\n\u001b[32m    816\u001b[39m         mgr = dict_to_mgr(\n\u001b[32m    817\u001b[39m             \u001b[38;5;66;03m# error: Item \"ndarray\" of \"Union[ndarray, Series, Index]\" has no\u001b[39;00m\n\u001b[32m    818\u001b[39m             \u001b[38;5;66;03m# attribute \"name\"\u001b[39;00m\n\u001b[32m   (...)\u001b[39m\u001b[32m    824\u001b[39m             copy=_copy,\n\u001b[32m    825\u001b[39m         )\n\u001b[32m    826\u001b[39m     \u001b[38;5;28;01melse\u001b[39;00m:\n\u001b[32m--> \u001b[39m\u001b[32m827\u001b[39m         mgr = \u001b[43mndarray_to_mgr\u001b[49m\u001b[43m(\u001b[49m\n\u001b[32m    828\u001b[39m \u001b[43m            \u001b[49m\u001b[43mdata\u001b[49m\u001b[43m,\u001b[49m\n\u001b[32m    829\u001b[39m \u001b[43m            \u001b[49m\u001b[43mindex\u001b[49m\u001b[43m,\u001b[49m\n\u001b[32m    830\u001b[39m \u001b[43m            \u001b[49m\u001b[43mcolumns\u001b[49m\u001b[43m,\u001b[49m\n\u001b[32m    831\u001b[39m \u001b[43m            \u001b[49m\u001b[43mdtype\u001b[49m\u001b[43m=\u001b[49m\u001b[43mdtype\u001b[49m\u001b[43m,\u001b[49m\n\u001b[32m    832\u001b[39m \u001b[43m            \u001b[49m\u001b[43mcopy\u001b[49m\u001b[43m=\u001b[49m\u001b[43mcopy\u001b[49m\u001b[43m,\u001b[49m\n\u001b[32m    833\u001b[39m \u001b[43m            \u001b[49m\u001b[43mtyp\u001b[49m\u001b[43m=\u001b[49m\u001b[43mmanager\u001b[49m\u001b[43m,\u001b[49m\n\u001b[32m    834\u001b[39m \u001b[43m        \u001b[49m\u001b[43m)\u001b[49m\n\u001b[32m    836\u001b[39m \u001b[38;5;66;03m# For data is list-like, or Iterable (will consume into list)\u001b[39;00m\n\u001b[32m    837\u001b[39m \u001b[38;5;28;01melif\u001b[39;00m is_list_like(data):\n",
      "\u001b[36mFile \u001b[39m\u001b[32md:\\windows\\my_projects\\python\\pandas\\env\\Lib\\site-packages\\pandas\\core\\internals\\construction.py:314\u001b[39m, in \u001b[36mndarray_to_mgr\u001b[39m\u001b[34m(values, index, columns, dtype, copy, typ)\u001b[39m\n\u001b[32m    312\u001b[39m     \u001b[38;5;28;01melse\u001b[39;00m:\n\u001b[32m    313\u001b[39m         values = np.asarray(values)\n\u001b[32m--> \u001b[39m\u001b[32m314\u001b[39m     values = \u001b[43m_ensure_2d\u001b[49m\u001b[43m(\u001b[49m\u001b[43mvalues\u001b[49m\u001b[43m)\u001b[49m\n\u001b[32m    316\u001b[39m \u001b[38;5;28;01melse\u001b[39;00m:\n\u001b[32m    317\u001b[39m     \u001b[38;5;66;03m# by definition an array here\u001b[39;00m\n\u001b[32m    318\u001b[39m     \u001b[38;5;66;03m# the dtypes will be coerced to a single dtype\u001b[39;00m\n\u001b[32m    319\u001b[39m     values = _prep_ndarraylike(values, copy=copy_on_sanitize)\n",
      "\u001b[36mFile \u001b[39m\u001b[32md:\\windows\\my_projects\\python\\pandas\\env\\Lib\\site-packages\\pandas\\core\\internals\\construction.py:592\u001b[39m, in \u001b[36m_ensure_2d\u001b[39m\u001b[34m(values)\u001b[39m\n\u001b[32m    590\u001b[39m     values = values.reshape((values.shape[\u001b[32m0\u001b[39m], \u001b[32m1\u001b[39m))\n\u001b[32m    591\u001b[39m \u001b[38;5;28;01melif\u001b[39;00m values.ndim != \u001b[32m2\u001b[39m:\n\u001b[32m--> \u001b[39m\u001b[32m592\u001b[39m     \u001b[38;5;28;01mraise\u001b[39;00m \u001b[38;5;167;01mValueError\u001b[39;00m(\u001b[33mf\u001b[39m\u001b[33m\"\u001b[39m\u001b[33mMust pass 2-d input. shape=\u001b[39m\u001b[38;5;132;01m{\u001b[39;00mvalues.shape\u001b[38;5;132;01m}\u001b[39;00m\u001b[33m\"\u001b[39m)\n\u001b[32m    593\u001b[39m \u001b[38;5;28;01mreturn\u001b[39;00m values\n",
      "\u001b[31mValueError\u001b[39m: Must pass 2-d input. shape=(2, 3, 3)"
     ]
    }
   ],
   "source": [
    "# if the numpy array that have more than three dimensions. you can't make it a pandas dataframe like what i did in above because it will throw an error `ValueError: Must pass 2-d input. shape=(2, 3, 3)`\n",
    "df3 = pd.DataFrame(a3)\n",
    "pr(df3)"
   ]
  },
  {
   "cell_type": "code",
   "execution_count": null,
   "id": "7d243198",
   "metadata": {},
   "outputs": [],
   "source": []
  }
 ],
 "metadata": {
  "kernelspec": {
   "display_name": "Python 3",
   "language": "python",
   "name": "python3"
  },
  "language_info": {
   "codemirror_mode": {
    "name": "ipython",
    "version": 3
   },
   "file_extension": ".py",
   "mimetype": "text/x-python",
   "name": "python",
   "nbconvert_exporter": "python",
   "pygments_lexer": "ipython3",
   "version": "3.13.7"
  }
 },
 "nbformat": 4,
 "nbformat_minor": 5
}
