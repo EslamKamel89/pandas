{
 "cells": [
  {
   "cell_type": "code",
   "execution_count": null,
   "id": "c15f53fb",
   "metadata": {},
   "outputs": [],
   "source": [
    "from typing import TypeVar\n",
    "\n",
    "\n",
    "T = TypeVar('T')\n",
    "\n",
    "def pr(val : T , title:str|None = None) : # type: ignore\n",
    "    if title != None :\n",
    "        print(f\" ---------------------- {title} ---------------------- \")\n",
    "    print('type: ' , type(val))\n",
    "    print(val , '\\n')\n",
    "    # return val\n"
   ]
  },
  {
   "cell_type": "code",
   "execution_count": 18,
   "id": "cd5f538f",
   "metadata": {},
   "outputs": [],
   "source": [
    "import numpy as np # type: ignore\n",
    "import numpy.typing as npt # type: ignore"
   ]
  },
  {
   "cell_type": "code",
   "execution_count": 19,
   "id": "818f12a6",
   "metadata": {},
   "outputs": [
    {
     "name": "stdout",
     "output_type": "stream",
     "text": [
      " ---------------------- ones ---------------------- \n",
      "type:  <class 'numpy.ndarray'>\n",
      "[[1. 1. 1.]\n",
      " [1. 1. 1.]] \n",
      "\n",
      " ---------------------- zeros ---------------------- \n",
      "type:  <class 'numpy.ndarray'>\n",
      "[[0. 0. 0.]\n",
      " [0. 0. 0.]] \n",
      "\n",
      " ---------------------- sevens ---------------------- \n",
      "type:  <class 'numpy.ndarray'>\n",
      "[[7 7 7]\n",
      " [7 7 7]\n",
      " [7 7 7]\n",
      " [7 7 7]\n",
      " [7 7 7]] \n",
      "\n"
     ]
    }
   ],
   "source": [
    "ones : npt.NDArray[np.float64] = np.ones((2,3))\n",
    "pr(ones , 'ones')\n",
    "zeros :npt.NDArray[np.float64] = np.zeros((2,3))\n",
    "pr(zeros , 'zeros')\n",
    "sevens: npt.NDArray[np.int64] = np.full(shape=(5,3) , fill_value= 7)\n",
    "pr(sevens , 'sevens')"
   ]
  },
  {
   "cell_type": "code",
   "execution_count": 7,
   "id": "156f7367",
   "metadata": {},
   "outputs": [
    {
     "name": "stdout",
     "output_type": "stream",
     "text": [
      " ---------------------- arange ---------------------- \n",
      "type:  <class 'numpy.ndarray'>\n",
      "[0 2 4 6 8] \n",
      "\n"
     ]
    }
   ],
   "source": [
    "arange = np.arange(0 , 10 , 2)\n",
    "pr(arange , 'arange' )"
   ]
  },
  {
   "cell_type": "code",
   "execution_count": 8,
   "id": "864ed4c0",
   "metadata": {},
   "outputs": [
    {
     "name": "stdout",
     "output_type": "stream",
     "text": [
      " ---------------------- rarray ---------------------- \n",
      "type:  <class 'numpy.ndarray'>\n",
      "[[2 8 4]\n",
      " [9 9 2]\n",
      " [2 3 1]] \n",
      "\n"
     ]
    }
   ],
   "source": [
    "rarray = np.random.randint(low=0 , high=10 , size=(3,3))\n",
    "pr(rarray , 'rarray')"
   ]
  },
  {
   "cell_type": "code",
   "execution_count": 15,
   "id": "6fd97d6d",
   "metadata": {},
   "outputs": [
    {
     "name": "stdout",
     "output_type": "stream",
     "text": [
      " ---------------------- rarray ---------------------- \n",
      "type:  <class 'numpy.ndarray'>\n",
      "[[ 6. 94.  7.]\n",
      " [81. 42. 52.]\n",
      " [81. 10. 90.]\n",
      " [39. 42. 13.]\n",
      " [15.  4. 19.]] \n",
      "\n",
      " ---------------------- rarray.shape ---------------------- \n",
      "type:  <class 'tuple'>\n",
      "(5, 3) \n",
      "\n"
     ]
    }
   ],
   "source": [
    "rarray = (np.random.random(size=(5,3))*100).round()\n",
    "\n",
    "pr(rarray , 'rarray')\n",
    "pr(rarray.shape , 'rarray.shape')\n"
   ]
  },
  {
   "cell_type": "code",
   "execution_count": 16,
   "id": "4854746e",
   "metadata": {},
   "outputs": [
    {
     "name": "stdout",
     "output_type": "stream",
     "text": [
      " ---------------------- rarray ---------------------- \n",
      "type:  <class 'numpy.ndarray'>\n",
      "[[0.77696353 0.03345785 0.85089955]\n",
      " [0.63870817 0.12045367 0.57159005]\n",
      " [0.41179198 0.56085724 0.86169209]\n",
      " [0.70444942 0.05893079 0.94342712]\n",
      " [0.42928213 0.1681253  0.91177075]] \n",
      "\n"
     ]
    }
   ],
   "source": [
    "rarray = np.random.rand(5,3)\n",
    "pr(rarray , 'rarray')"
   ]
  },
  {
   "cell_type": "code",
   "execution_count": null,
   "id": "9e7683fc",
   "metadata": {},
   "outputs": [
    {
     "name": "stdout",
     "output_type": "stream",
     "text": [
      "type:  <class 'numpy.ndarray'>\n",
      "[0 2 4 6 8] \n",
      "\n"
     ]
    }
   ],
   "source": [
    "evens : npt.NDArray[np.int64] = np.arange(start=0 , stop=10 , step=2 , dtype=np.int64)\n",
    "pr(evens , 'evens')"
   ]
  },
  {
   "cell_type": "code",
   "execution_count": null,
   "id": "1ac56715",
   "metadata": {},
   "outputs": [],
   "source": []
  }
 ],
 "metadata": {
  "kernelspec": {
   "display_name": "Python 3",
   "language": "python",
   "name": "python3"
  },
  "language_info": {
   "codemirror_mode": {
    "name": "ipython",
    "version": 3
   },
   "file_extension": ".py",
   "mimetype": "text/x-python",
   "name": "python",
   "nbconvert_exporter": "python",
   "pygments_lexer": "ipython3",
   "version": "3.13.7"
  }
 },
 "nbformat": 4,
 "nbformat_minor": 5
}
