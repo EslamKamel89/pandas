{
 "cells": [
  {
   "cell_type": "code",
   "execution_count": 2,
   "id": "bd634847",
   "metadata": {},
   "outputs": [],
   "source": [
    "from typing import TypeVar\n",
    "\n",
    "\n",
    "T = TypeVar('T')\n",
    "\n",
    "def pr(val : T , title:str|None = None) : # type: ignore\n",
    "    if title != None :\n",
    "        print(f\" ---------------------- {title} ---------------------- \")\n",
    "    print('type: ' , type(val))\n",
    "    print(val , '\\n')\n",
    "    # return val"
   ]
  },
  {
   "cell_type": "code",
   "execution_count": 4,
   "id": "a576f2f5",
   "metadata": {},
   "outputs": [
    {
     "name": "stdout",
     "output_type": "stream",
     "text": [
      " ---------------------- car sales ---------------------- \n",
      "type:  <class 'pandas.core.frame.DataFrame'>\n",
      "     Make  Color  Odometer (KM)  Doors       Price\n",
      "0  Toyota  White         150043      4   $4,000.00\n",
      "1   Honda    Red          87899      4   $5,000.00\n",
      "2  Toyota   Blue          32549      3   $7,000.00\n",
      "3     BMW  Black          11179      5  $22,000.00\n",
      "4  Nissan  White         213095      4   $3,500.00\n",
      "5  Toyota  Green          99213      4   $4,500.00\n",
      "6   Honda   Blue          45698      4   $7,500.00\n",
      "7   Honda   Blue          54738      4   $7,000.00\n",
      "8  Toyota  White          60000      4   $6,250.00\n",
      "9  Nissan  White          31600      4   $9,700.00 \n",
      "\n"
     ]
    }
   ],
   "source": [
    "import pandas as pd\n",
    "df = pd.read_csv('./data/car-sales.csv') # type: ignore\n",
    "pr(df , 'car sales')"
   ]
  },
  {
   "cell_type": "code",
   "execution_count": 6,
   "id": "a46df263",
   "metadata": {},
   "outputs": [
    {
     "name": "stdout",
     "output_type": "stream",
     "text": [
      "type:  <class 'pandas.core.frame.DataFrame'>\n",
      "     Make  Color  Odometer (KM)  Doors       Price\n",
      "0  Toyota  White         150043      4   $4,000.00\n",
      "4  Nissan  White         213095      4   $3,500.00\n",
      "7   Honda   Blue          54738      4   $7,000.00\n",
      "1   Honda    Red          87899      4   $5,000.00\n",
      "5  Toyota  Green          99213      4   $4,500.00\n",
      "9  Nissan  White          31600      4   $9,700.00\n",
      "2  Toyota   Blue          32549      3   $7,000.00\n",
      "3     BMW  Black          11179      5  $22,000.00\n",
      "8  Toyota  White          60000      4   $6,250.00\n",
      "6   Honda   Blue          45698      4   $7,500.00 \n",
      "\n"
     ]
    }
   ],
   "source": [
    "pr(df.sample(frac=1))"
   ]
  },
  {
   "cell_type": "code",
   "execution_count": 7,
   "id": "652e3e64",
   "metadata": {},
   "outputs": [
    {
     "name": "stdout",
     "output_type": "stream",
     "text": [
      "type:  <class 'pandas.core.frame.DataFrame'>\n",
      "     Make  Color  Odometer (KM)  Doors       Price\n",
      "0  Toyota  White         150043      4   $4,000.00\n",
      "1   Honda    Red          87899      4   $5,000.00\n",
      "9  Nissan  White          31600      4   $9,700.00\n",
      "6   Honda   Blue          45698      4   $7,500.00\n",
      "5  Toyota  Green          99213      4   $4,500.00\n",
      "8  Toyota  White          60000      4   $6,250.00\n",
      "7   Honda   Blue          54738      4   $7,000.00\n",
      "4  Nissan  White         213095      4   $3,500.00\n",
      "3     BMW  Black          11179      5  $22,000.00\n",
      "2  Toyota   Blue          32549      3   $7,000.00 \n",
      "\n"
     ]
    }
   ],
   "source": [
    "df_shuffled = df.sample(frac=1)\n",
    "pr(df_shuffled)"
   ]
  },
  {
   "cell_type": "code",
   "execution_count": 9,
   "id": "ff6dc827",
   "metadata": {},
   "outputs": [
    {
     "name": "stdout",
     "output_type": "stream",
     "text": [
      "type:  <class 'pandas.core.frame.DataFrame'>\n",
      "    Make  Color  Odometer (KM)  Doors       Price\n",
      "7  Honda   Blue          54738      4   $7,000.00\n",
      "3    BMW  Black          11179      5  $22,000.00 \n",
      "\n"
     ]
    }
   ],
   "source": [
    "# sometimes we may want to work with small percentage of data\n",
    "df_shuffled = df.sample(frac=0.2)\n",
    "pr(df_shuffled)"
   ]
  },
  {
   "cell_type": "code",
   "execution_count": 11,
   "id": "71456c99",
   "metadata": {},
   "outputs": [
    {
     "name": "stdout",
     "output_type": "stream",
     "text": [
      "type:  <class 'pandas.core.frame.DataFrame'>\n",
      "     Make  Color  Odometer (KM)  Doors       Price\n",
      "0  Toyota  White         150043      4   $4,000.00\n",
      "1   Honda    Red          87899      4   $5,000.00\n",
      "5  Toyota  Green          99213      4   $4,500.00\n",
      "9  Nissan  White          31600      4   $9,700.00\n",
      "2  Toyota   Blue          32549      3   $7,000.00\n",
      "3     BMW  Black          11179      5  $22,000.00\n",
      "7   Honda   Blue          54738      4   $7,000.00\n",
      "8  Toyota  White          60000      4   $6,250.00\n",
      "6   Honda   Blue          45698      4   $7,500.00\n",
      "4  Nissan  White         213095      4   $3,500.00 \n",
      "\n",
      "type:  <class 'pandas.core.frame.DataFrame'>\n",
      "     Make  Color  Odometer (KM)  Doors       Price\n",
      "0  Toyota  White         150043      4   $4,000.00\n",
      "1   Honda    Red          87899      4   $5,000.00\n",
      "2  Toyota  Green          99213      4   $4,500.00\n",
      "3  Nissan  White          31600      4   $9,700.00\n",
      "4  Toyota   Blue          32549      3   $7,000.00\n",
      "5     BMW  Black          11179      5  $22,000.00\n",
      "6   Honda   Blue          54738      4   $7,000.00\n",
      "7  Toyota  White          60000      4   $6,250.00\n",
      "8   Honda   Blue          45698      4   $7,500.00\n",
      "9  Nissan  White         213095      4   $3,500.00 \n",
      "\n"
     ]
    }
   ],
   "source": [
    "df_shuffled = df.sample(frac=1)\n",
    "pr(df_shuffled)\n",
    "df_shuffled = df_shuffled.reset_index( drop= True)\n",
    "pr(df_shuffled)"
   ]
  },
  {
   "cell_type": "code",
   "execution_count": 12,
   "id": "f3b28a15",
   "metadata": {},
   "outputs": [
    {
     "name": "stdout",
     "output_type": "stream",
     "text": [
      "type:  <class 'pandas.core.frame.DataFrame'>\n",
      "     Make  Color  Odometer (KM)  Doors       Price  Odometer (ML)\n",
      "0  Toyota  White         150043      4   $4,000.00      93776.875\n",
      "1   Honda    Red          87899      4   $5,000.00      54936.875\n",
      "2  Toyota   Blue          32549      3   $7,000.00      20343.125\n",
      "3     BMW  Black          11179      5  $22,000.00       6986.875\n",
      "4  Nissan  White         213095      4   $3,500.00     133184.375\n",
      "5  Toyota  Green          99213      4   $4,500.00      62008.125\n",
      "6   Honda   Blue          45698      4   $7,500.00      28561.250\n",
      "7   Honda   Blue          54738      4   $7,000.00      34211.250\n",
      "8  Toyota  White          60000      4   $6,250.00      37500.000\n",
      "9  Nissan  White          31600      4   $9,700.00      19750.000 \n",
      "\n"
     ]
    }
   ],
   "source": [
    "df['Odometer (ML)'] = df['Odometer (KM)'].apply(lambda x : x /1.6)\n",
    "pr(df)"
   ]
  },
  {
   "cell_type": "code",
   "execution_count": null,
   "id": "49848e56",
   "metadata": {},
   "outputs": [],
   "source": []
  }
 ],
 "metadata": {
  "kernelspec": {
   "display_name": "Python 3",
   "language": "python",
   "name": "python3"
  },
  "language_info": {
   "codemirror_mode": {
    "name": "ipython",
    "version": 3
   },
   "file_extension": ".py",
   "mimetype": "text/x-python",
   "name": "python",
   "nbconvert_exporter": "python",
   "pygments_lexer": "ipython3",
   "version": "3.13.7"
  }
 },
 "nbformat": 4,
 "nbformat_minor": 5
}
