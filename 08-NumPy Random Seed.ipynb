{
 "cells": [
  {
   "cell_type": "code",
   "execution_count": 1,
   "id": "52b21e66",
   "metadata": {},
   "outputs": [],
   "source": [
    "from typing import TypeVar\n",
    "\n",
    "\n",
    "T = TypeVar('T')\n",
    "\n",
    "def pr(val : T , title:str|None = None) : # type: ignore\n",
    "    if title != None :\n",
    "        print(f\" ---------------------- {title} ---------------------- \")\n",
    "    print('type: ' , type(val))\n",
    "    print(val , '\\n')\n",
    "    # return val\n"
   ]
  },
  {
   "cell_type": "code",
   "execution_count": 2,
   "id": "2013e1d5",
   "metadata": {},
   "outputs": [],
   "source": [
    "import numpy as np # type: ignore\n",
    "import numpy.typing as npt # type: ignore"
   ]
  },
  {
   "cell_type": "code",
   "execution_count": null,
   "id": "3d3f2e73",
   "metadata": {},
   "outputs": [
    {
     "name": "stdout",
     "output_type": "stream",
     "text": [
      " ---------------------- rarray ---------------------- \n",
      "type:  <class 'numpy.ndarray'>\n",
      "[[5 0 3]\n",
      " [3 7 9]\n",
      " [3 5 2]\n",
      " [4 7 6]\n",
      " [8 8 1]] \n",
      "\n"
     ]
    }
   ],
   "source": [
    "np.random.seed(seed=0)\n",
    "rarray : npt.NDArray[np.int64] = np.random.randint(low=0 , high=10 , dtype=np.int64 , size=(5,3) )\n",
    "pr(rarray ,  'rarray')"
   ]
  },
  {
   "cell_type": "code",
   "execution_count": 13,
   "id": "3642e20c",
   "metadata": {},
   "outputs": [
    {
     "name": "stdout",
     "output_type": "stream",
     "text": [
      " ---------------------- rarray ---------------------- \n",
      "type:  <class 'numpy.ndarray'>\n",
      "[[0.07630829 0.77991879 0.43840923]\n",
      " [0.72346518 0.97798951 0.53849587]\n",
      " [0.50112046 0.07205113 0.26843898]\n",
      " [0.4998825  0.67923    0.80373904]\n",
      " [0.38094113 0.06593635 0.2881456 ]] \n",
      "\n"
     ]
    }
   ],
   "source": [
    "np.random.seed(7)\n",
    "rarray = np.random.random(size=(5,3))\n",
    "pr(rarray , 'rarray')"
   ]
  },
  {
   "cell_type": "code",
   "execution_count": null,
   "id": "91980240",
   "metadata": {},
   "outputs": [],
   "source": []
  }
 ],
 "metadata": {
  "kernelspec": {
   "display_name": "Python 3",
   "language": "python",
   "name": "python3"
  },
  "language_info": {
   "codemirror_mode": {
    "name": "ipython",
    "version": 3
   },
   "file_extension": ".py",
   "mimetype": "text/x-python",
   "name": "python",
   "nbconvert_exporter": "python",
   "pygments_lexer": "ipython3",
   "version": "3.13.7"
  }
 },
 "nbformat": 4,
 "nbformat_minor": 5
}
