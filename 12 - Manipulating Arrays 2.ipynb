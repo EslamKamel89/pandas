{
 "cells": [
  {
   "cell_type": "code",
   "execution_count": 1,
   "id": "1bc9201f",
   "metadata": {},
   "outputs": [],
   "source": [
    "from typing import TypeVar\n",
    "\n",
    "\n",
    "T = TypeVar('T')\n",
    "\n",
    "def pr(val : T , title:str|None = None) : # type: ignore\n",
    "    if title != None :\n",
    "        print(f\" ---------------------- {title} ---------------------- \")\n",
    "    print('type: ' , type(val))\n",
    "    print(val , '\\n')\n",
    "    # return val\n"
   ]
  },
  {
   "cell_type": "code",
   "execution_count": 2,
   "id": "ca0d8445",
   "metadata": {},
   "outputs": [],
   "source": [
    "import numpy as np # type: ignore\n",
    "import numpy.typing as npt # type: ignore"
   ]
  },
  {
   "cell_type": "code",
   "execution_count": 3,
   "id": "a59dc61e",
   "metadata": {},
   "outputs": [
    {
     "name": "stdout",
     "output_type": "stream",
     "text": [
      " ---------------------- sum ---------------------- \n",
      "type:  <class 'numpy.float64'>\n",
      "5.0 \n",
      "\n"
     ]
    }
   ],
   "source": [
    "ones  = np.ones((5))\n",
    "pr(ones.sum() , 'sum')"
   ]
  },
  {
   "cell_type": "code",
   "execution_count": 6,
   "id": "ce6c3d22",
   "metadata": {},
   "outputs": [
    {
     "name": "stdout",
     "output_type": "stream",
     "text": [
      "6.95 ms ± 323 μs per loop (mean ± std. dev. of 7 runs, 100 loops each)\n",
      "72.6 μs ± 4.42 μs per loop (mean ± std. dev. of 7 runs, 10,000 loops each)\n"
     ]
    }
   ],
   "source": [
    "massive_array = np.random.randint(low=0 , high=1000 , size=(100000))\n",
    "%timeit sum(massive_array)\n",
    "%timeit massive_array.sum()"
   ]
  },
  {
   "cell_type": "code",
   "execution_count": 7,
   "id": "29b7213b",
   "metadata": {},
   "outputs": [
    {
     "name": "stdout",
     "output_type": "stream",
     "text": [
      " ---------------------- a2 ---------------------- \n",
      "type:  <class 'numpy.ndarray'>\n",
      "[[7 4 8]\n",
      " [5 7 3]\n",
      " [7 8 5]] \n",
      "\n",
      " ---------------------- a2.sum() ---------------------- \n",
      "type:  <class 'numpy.int64'>\n",
      "54 \n",
      "\n",
      " ---------------------- a2.mean() ---------------------- \n",
      "type:  <class 'numpy.float64'>\n",
      "6.0 \n",
      "\n",
      " ---------------------- a2.max() ---------------------- \n",
      "type:  <class 'numpy.int32'>\n",
      "8 \n",
      "\n",
      " ---------------------- a2.std() ---------------------- \n",
      "type:  <class 'numpy.float64'>\n",
      "1.699673171197595 \n",
      "\n",
      " ---------------------- a2.var() ---------------------- \n",
      "type:  <class 'numpy.float64'>\n",
      "2.888888888888889 \n",
      "\n"
     ]
    }
   ],
   "source": [
    "np.random.seed(42)\n",
    "a2:npt.NDArray[np.int64] = np.random.randint(low=1 , high=10 , size=(3,3))\n",
    "pr(a2 , 'a2')\n",
    "pr(a2.sum() , 'a2.sum()')\n",
    "pr(a2.mean() , 'a2.mean()')\n",
    "pr(a2.max() , 'a2.max()')\n",
    "pr(a2.std() , 'a2.std()')\n",
    "pr(a2.var() , 'a2.var()')"
   ]
  },
  {
   "cell_type": "code",
   "execution_count": null,
   "id": "4fb0aabf",
   "metadata": {},
   "outputs": [],
   "source": []
  }
 ],
 "metadata": {
  "kernelspec": {
   "display_name": "Python 3",
   "language": "python",
   "name": "python3"
  },
  "language_info": {
   "codemirror_mode": {
    "name": "ipython",
    "version": 3
   },
   "file_extension": ".py",
   "mimetype": "text/x-python",
   "name": "python",
   "nbconvert_exporter": "python",
   "pygments_lexer": "ipython3",
   "version": "3.13.7"
  }
 },
 "nbformat": 4,
 "nbformat_minor": 5
}
