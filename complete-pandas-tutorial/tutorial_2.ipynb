{
 "cells": [
  {
   "cell_type": "code",
   "execution_count": 1,
   "id": "4e097987",
   "metadata": {},
   "outputs": [],
   "source": [
    "from typing import TypeVar\n",
    "\n",
    "\n",
    "T = TypeVar('T')\n",
    "\n",
    "def pr(val : T , title:str|None = None , description: str|None = None) : # type: ignore\n",
    "    if title != None :\n",
    "        print(f\" ---------------------- {title} ---------------------- \")\n",
    "        if description != None :\n",
    "            print(f\" <-- {description} -->\")\n",
    "    print('type: ' , type(val))\n",
    "    print(val , '\\n')\n",
    "    # return val\n"
   ]
  },
  {
   "cell_type": "code",
   "execution_count": 2,
   "id": "aecad84c",
   "metadata": {},
   "outputs": [],
   "source": [
    "import numpy as np # type: ignore\n",
    "import numpy.typing as npt # type: ignore\n",
    "import pandas as pd # type: ignore"
   ]
  },
  {
   "cell_type": "code",
   "execution_count": 3,
   "id": "f54c6dc8",
   "metadata": {},
   "outputs": [
    {
     "name": "stdout",
     "output_type": "stream",
     "text": [
      " ---------------------- df ---------------------- \n",
      " <-- display the df that we just created -->\n",
      "type:  <class 'pandas.core.frame.DataFrame'>\n",
      "   A  B  C\n",
      "0  1  2  3\n",
      "1  4  5  6\n",
      "2  7  8  9 \n",
      "\n",
      " ---------------------- df.head() ---------------------- \n",
      " <-- the head method make the first five rows visible -->\n",
      "type:  <class 'pandas.core.frame.DataFrame'>\n",
      "   A  B  C\n",
      "0  1  2  3\n",
      "1  4  5  6\n",
      "2  7  8  9 \n",
      "\n",
      " ---------------------- df.head() ---------------------- \n",
      " <-- i could only look the first two rows by passing a number to head method -->\n",
      "type:  <class 'pandas.core.frame.DataFrame'>\n",
      "   A  B  C\n",
      "0  1  2  3\n",
      "1  4  5  6 \n",
      "\n"
     ]
    }
   ],
   "source": [
    "df = pd.DataFrame([[1,2,3] , [4,5,6] , [7,8,9]] , columns=['A', 'B', 'C'])\n",
    "pr(df , 'df' , 'display the df that we just created')\n",
    "pr(df.head() , 'df.head()' , 'the head method make the first five rows visible')\n",
    "pr(df.head(2) , 'df.head()' , 'i could only look the first two rows by passing a number to head method')"
   ]
  },
  {
   "cell_type": "code",
   "execution_count": 4,
   "id": "c1cb2fc9",
   "metadata": {},
   "outputs": [
    {
     "name": "stdout",
     "output_type": "stream",
     "text": [
      " ---------------------- df.tail(2) ---------------------- \n",
      " <-- i could look to the bottom two rows by passing a number to the tail method -->\n",
      "type:  <class 'pandas.core.frame.DataFrame'>\n",
      "   A  B  C\n",
      "1  4  5  6\n",
      "2  7  8  9 \n",
      "\n",
      " ---------------------- df.columns ---------------------- \n",
      " <-- i could see what are the the headers only -->\n",
      "type:  <class 'pandas.core.indexes.base.Index'>\n",
      "Index(['A', 'B', 'C'], dtype='object') \n",
      "\n",
      " ---------------------- df.index ---------------------- \n",
      " <-- i could also see what the index are by calling the index property -->\n",
      "type:  <class 'pandas.core.indexes.range.RangeIndex'>\n",
      "RangeIndex(start=0, stop=3, step=1) \n",
      "\n",
      " ---------------------- df.index.to_list() ---------------------- \n",
      " <-- you could transform the index from \"pandas.core.indexes.range.RangeIndex\" object to normal python array  -->\n",
      "type:  <class 'list'>\n",
      "[0, 1, 2] \n",
      "\n"
     ]
    }
   ],
   "source": [
    "pr(df.tail(2) , 'df.tail(2)' , 'i could look to the bottom two rows by passing a number to the tail method')\n",
    "pr(df.columns , 'df.columns' , 'i could see what are the the headers only')\n",
    "pr(df.index , 'df.index' , 'i could also see what the index are by calling the index property')\n",
    "pr(df.index.to_list() , 'df.index.to_list()' , 'you could transform the index from \"pandas.core.indexes.range.RangeIndex\" object to normal python array ')"
   ]
  },
  {
   "cell_type": "code",
   "execution_count": 5,
   "id": "15e4ba87",
   "metadata": {},
   "outputs": [
    {
     "name": "stdout",
     "output_type": "stream",
     "text": [
      " ---------------------- df ---------------------- \n",
      " <-- i could change the index from the default auto increment to a custom index -->\n",
      "type:  <class 'pandas.core.frame.DataFrame'>\n",
      "   A  B  C\n",
      "X  1  2  3\n",
      "Y  4  5  6\n",
      "Z  7  8  9 \n",
      "\n",
      " ---------------------- df.index.to_list ---------------------- \n",
      " <-- the new index we just added -->\n",
      "type:  <class 'method'>\n",
      "<bound method IndexOpsMixin.tolist of Index(['X', 'Y', 'Z'], dtype='object')> \n",
      "\n"
     ]
    }
   ],
   "source": [
    "df = pd.DataFrame([[1,2,3] , [4,5,6] , [7,8,9]] , columns=['A', 'B', 'C'] , index=['X' , 'Y' , 'Z'])\n",
    "pr(df , 'df' , 'i could change the index from the default auto increment to a custom index')\n",
    "pr(df.index.to_list , 'df.index.to_list' , 'the new index we just added' )\n"
   ]
  },
  {
   "cell_type": "code",
   "execution_count": 6,
   "id": "d293049f",
   "metadata": {},
   "outputs": [
    {
     "name": "stdout",
     "output_type": "stream",
     "text": [
      "<class 'pandas.core.frame.DataFrame'>\n",
      "Index: 3 entries, X to Z\n",
      "Data columns (total 3 columns):\n",
      " #   Column  Non-Null Count  Dtype\n",
      "---  ------  --------------  -----\n",
      " 0   A       3 non-null      int64\n",
      " 1   B       3 non-null      int64\n",
      " 2   C       3 non-null      int64\n",
      "dtypes: int64(3)\n",
      "memory usage: 96.0+ bytes\n",
      " ---------------------- df.info() ---------------------- \n",
      " <-- info method return information about our dataframe -->\n",
      "type:  <class 'NoneType'>\n",
      "None \n",
      "\n"
     ]
    }
   ],
   "source": [
    "pr(df.info() , 'df.info()' , 'info method return information about our dataframe')"
   ]
  },
  {
   "cell_type": "code",
   "execution_count": 7,
   "id": "b2dd4da3",
   "metadata": {},
   "outputs": [
    {
     "name": "stdout",
     "output_type": "stream",
     "text": [
      " ---------------------- original frame ---------------------- \n",
      "type:  <class 'pandas.core.frame.DataFrame'>\n",
      "   A  B  C\n",
      "X  1  2  3\n",
      "Y  4  5  6\n",
      "Z  7  8  9 \n",
      "\n",
      " ---------------------- df.describe() ---------------------- \n",
      " <-- describe method return statistical information about our dataframe for each column -->\n",
      "type:  <class 'pandas.core.frame.DataFrame'>\n",
      "         A    B    C\n",
      "count  3.0  3.0  3.0\n",
      "mean   4.0  5.0  6.0\n",
      "std    3.0  3.0  3.0\n",
      "min    1.0  2.0  3.0\n",
      "25%    2.5  3.5  4.5\n",
      "50%    4.0  5.0  6.0\n",
      "75%    5.5  6.5  7.5\n",
      "max    7.0  8.0  9.0 \n",
      "\n"
     ]
    }
   ],
   "source": [
    "pr(df , 'original frame')\n",
    "pr(df.describe() , 'df.describe()' , 'describe method return statistical information about our dataframe for each column')\n"
   ]
  },
  {
   "cell_type": "code",
   "execution_count": 8,
   "id": "855d1376",
   "metadata": {},
   "outputs": [
    {
     "name": "stdout",
     "output_type": "stream",
     "text": [
      " ---------------------- df.nunique() ---------------------- \n",
      " <-- the unique variables in the dataframe -->\n",
      "type:  <class 'pandas.core.series.Series'>\n",
      "A    3\n",
      "B    3\n",
      "C    3\n",
      "dtype: int64 \n",
      "\n"
     ]
    }
   ],
   "source": [
    "pr(df.nunique() , 'df.nunique()' , 'the unique variables in the dataframe')"
   ]
  },
  {
   "cell_type": "code",
   "execution_count": 9,
   "id": "1d0532a1",
   "metadata": {},
   "outputs": [
    {
     "name": "stdout",
     "output_type": "stream",
     "text": [
      " ---------------------- df['A'] ---------------------- \n",
      " <-- the data in the first column can be accessed like accessing dictionaries with the column name -->\n",
      "type:  <class 'pandas.core.series.Series'>\n",
      "X    1\n",
      "Y    4\n",
      "Z    7\n",
      "Name: A, dtype: int64 \n",
      "\n"
     ]
    }
   ],
   "source": [
    "pr(df['A'] , \"df['A']\" , 'the data in the first column can be accessed like accessing dictionaries with the column name' )"
   ]
  },
  {
   "cell_type": "code",
   "execution_count": 10,
   "id": "d32c2cc5",
   "metadata": {},
   "outputs": [
    {
     "name": "stdout",
     "output_type": "stream",
     "text": [
      " ---------------------- df.shape ---------------------- \n",
      " <-- shape of the dataframe -->\n",
      "type:  <class 'tuple'>\n",
      "(3, 3) \n",
      "\n",
      " ---------------------- df.size ---------------------- \n",
      " <-- size of the dataframe -->\n",
      "type:  <class 'int'>\n",
      "9 \n",
      "\n"
     ]
    }
   ],
   "source": [
    "pr(df.shape , 'df.shape' , 'shape of the dataframe' )\n",
    "pr(df.size , 'df.size' , 'size of the dataframe' )"
   ]
  },
  {
   "cell_type": "code",
   "execution_count": 11,
   "id": "fdfa12cc",
   "metadata": {},
   "outputs": [
    {
     "name": "stdout",
     "output_type": "stream",
     "text": [
      " ---------------------- grades.head(3) ---------------------- \n",
      "type:  <class 'pandas.core.frame.DataFrame'>\n",
      "      name     quiz  exam\n",
      "0     math     math    90\n",
      "1  science  science    90\n",
      "2  english  english    90 \n",
      "\n",
      " ---------------------- grades.columns.to_list() ---------------------- \n",
      "type:  <class 'list'>\n",
      "['name', 'quiz', 'exam'] \n",
      "\n",
      " ---------------------- grades.index.to_list() ---------------------- \n",
      "type:  <class 'list'>\n",
      "[0, 1, 2] \n",
      "\n"
     ]
    }
   ],
   "source": [
    "grades = pd.DataFrame([\n",
    "    ['math' , 'math' , 90],\n",
    "    ['science' , 'science' , 90],\n",
    "    ['english' , 'english' , 90],\n",
    "    ] , columns=['name', 'quiz', 'exam'])\n",
    "pr(grades.head(3), 'grades.head(3)')\n",
    "pr(grades.columns.to_list(), 'grades.columns.to_list()')\n",
    "pr(grades.index.to_list(), 'grades.index.to_list()')"
   ]
  },
  {
   "cell_type": "code",
   "execution_count": 12,
   "id": "6cae212a",
   "metadata": {},
   "outputs": [
    {
     "name": "stdout",
     "output_type": "stream",
     "text": [
      " ---------------------- grades ---------------------- \n",
      "type:  <class 'pandas.core.frame.DataFrame'>\n",
      "       name     quiz  exam\n",
      "s1     math     math    90\n",
      "s2  science  science    90\n",
      "s3  english  english    90 \n",
      "\n",
      " ---------------------- grades['exam'] ---------------------- \n",
      "type:  <class 'pandas.core.series.Series'>\n",
      "s1    90\n",
      "s2    90\n",
      "s3    90\n",
      "Name: exam, dtype: int64 \n",
      "\n"
     ]
    }
   ],
   "source": [
    "grades = pd.DataFrame([\n",
    "    ['math' , 'math' , 90],\n",
    "    ['science' , 'science' , 90],\n",
    "    ['english' , 'english' , 90],\n",
    "    ] , columns=['name', 'quiz', 'exam'] , \n",
    "    index = ['s1' , 's2' , 's3'])\n",
    "pr(grades , 'grades')\n",
    "pr(grades['exam'] , \"grades['exam']\")"
   ]
  },
  {
   "cell_type": "code",
   "execution_count": 13,
   "id": "8494b79b",
   "metadata": {},
   "outputs": [
    {
     "name": "stdout",
     "output_type": "stream",
     "text": [
      "<class 'pandas.core.frame.DataFrame'>\n",
      "Index: 3 entries, s1 to s3\n",
      "Data columns (total 3 columns):\n",
      " #   Column  Non-Null Count  Dtype \n",
      "---  ------  --------------  ----- \n",
      " 0   name    3 non-null      object\n",
      " 1   quiz    3 non-null      object\n",
      " 2   exam    3 non-null      int64 \n",
      "dtypes: int64(1), object(2)\n",
      "memory usage: 96.0+ bytes\n"
     ]
    }
   ],
   "source": [
    "grades.info()"
   ]
  },
  {
   "cell_type": "code",
   "execution_count": 14,
   "id": "67257a50",
   "metadata": {},
   "outputs": [
    {
     "data": {
      "text/html": [
       "<div>\n",
       "<style scoped>\n",
       "    .dataframe tbody tr th:only-of-type {\n",
       "        vertical-align: middle;\n",
       "    }\n",
       "\n",
       "    .dataframe tbody tr th {\n",
       "        vertical-align: top;\n",
       "    }\n",
       "\n",
       "    .dataframe thead th {\n",
       "        text-align: right;\n",
       "    }\n",
       "</style>\n",
       "<table border=\"1\" class=\"dataframe\">\n",
       "  <thead>\n",
       "    <tr style=\"text-align: right;\">\n",
       "      <th></th>\n",
       "      <th>exam</th>\n",
       "    </tr>\n",
       "  </thead>\n",
       "  <tbody>\n",
       "    <tr>\n",
       "      <th>count</th>\n",
       "      <td>3.0</td>\n",
       "    </tr>\n",
       "    <tr>\n",
       "      <th>mean</th>\n",
       "      <td>90.0</td>\n",
       "    </tr>\n",
       "    <tr>\n",
       "      <th>std</th>\n",
       "      <td>0.0</td>\n",
       "    </tr>\n",
       "    <tr>\n",
       "      <th>min</th>\n",
       "      <td>90.0</td>\n",
       "    </tr>\n",
       "    <tr>\n",
       "      <th>25%</th>\n",
       "      <td>90.0</td>\n",
       "    </tr>\n",
       "    <tr>\n",
       "      <th>50%</th>\n",
       "      <td>90.0</td>\n",
       "    </tr>\n",
       "    <tr>\n",
       "      <th>75%</th>\n",
       "      <td>90.0</td>\n",
       "    </tr>\n",
       "    <tr>\n",
       "      <th>max</th>\n",
       "      <td>90.0</td>\n",
       "    </tr>\n",
       "  </tbody>\n",
       "</table>\n",
       "</div>"
      ],
      "text/plain": [
       "       exam\n",
       "count   3.0\n",
       "mean   90.0\n",
       "std     0.0\n",
       "min    90.0\n",
       "25%    90.0\n",
       "50%    90.0\n",
       "75%    90.0\n",
       "max    90.0"
      ]
     },
     "execution_count": 14,
     "metadata": {},
     "output_type": "execute_result"
    }
   ],
   "source": [
    "grades.describe()"
   ]
  },
  {
   "cell_type": "code",
   "execution_count": 15,
   "id": "4ed3759d",
   "metadata": {},
   "outputs": [
    {
     "data": {
      "text/html": [
       "<div>\n",
       "<style scoped>\n",
       "    .dataframe tbody tr th:only-of-type {\n",
       "        vertical-align: middle;\n",
       "    }\n",
       "\n",
       "    .dataframe tbody tr th {\n",
       "        vertical-align: top;\n",
       "    }\n",
       "\n",
       "    .dataframe thead th {\n",
       "        text-align: right;\n",
       "    }\n",
       "</style>\n",
       "<table border=\"1\" class=\"dataframe\">\n",
       "  <thead>\n",
       "    <tr style=\"text-align: right;\">\n",
       "      <th></th>\n",
       "      <th>name</th>\n",
       "      <th>quiz</th>\n",
       "      <th>exam</th>\n",
       "    </tr>\n",
       "  </thead>\n",
       "  <tbody>\n",
       "    <tr>\n",
       "      <th>count</th>\n",
       "      <td>3</td>\n",
       "      <td>3</td>\n",
       "      <td>3.0</td>\n",
       "    </tr>\n",
       "    <tr>\n",
       "      <th>unique</th>\n",
       "      <td>3</td>\n",
       "      <td>3</td>\n",
       "      <td>NaN</td>\n",
       "    </tr>\n",
       "    <tr>\n",
       "      <th>top</th>\n",
       "      <td>math</td>\n",
       "      <td>math</td>\n",
       "      <td>NaN</td>\n",
       "    </tr>\n",
       "    <tr>\n",
       "      <th>freq</th>\n",
       "      <td>1</td>\n",
       "      <td>1</td>\n",
       "      <td>NaN</td>\n",
       "    </tr>\n",
       "    <tr>\n",
       "      <th>mean</th>\n",
       "      <td>NaN</td>\n",
       "      <td>NaN</td>\n",
       "      <td>90.0</td>\n",
       "    </tr>\n",
       "    <tr>\n",
       "      <th>std</th>\n",
       "      <td>NaN</td>\n",
       "      <td>NaN</td>\n",
       "      <td>0.0</td>\n",
       "    </tr>\n",
       "    <tr>\n",
       "      <th>min</th>\n",
       "      <td>NaN</td>\n",
       "      <td>NaN</td>\n",
       "      <td>90.0</td>\n",
       "    </tr>\n",
       "    <tr>\n",
       "      <th>25%</th>\n",
       "      <td>NaN</td>\n",
       "      <td>NaN</td>\n",
       "      <td>90.0</td>\n",
       "    </tr>\n",
       "    <tr>\n",
       "      <th>50%</th>\n",
       "      <td>NaN</td>\n",
       "      <td>NaN</td>\n",
       "      <td>90.0</td>\n",
       "    </tr>\n",
       "    <tr>\n",
       "      <th>75%</th>\n",
       "      <td>NaN</td>\n",
       "      <td>NaN</td>\n",
       "      <td>90.0</td>\n",
       "    </tr>\n",
       "    <tr>\n",
       "      <th>max</th>\n",
       "      <td>NaN</td>\n",
       "      <td>NaN</td>\n",
       "      <td>90.0</td>\n",
       "    </tr>\n",
       "  </tbody>\n",
       "</table>\n",
       "</div>"
      ],
      "text/plain": [
       "        name  quiz  exam\n",
       "count      3     3   3.0\n",
       "unique     3     3   NaN\n",
       "top     math  math   NaN\n",
       "freq       1     1   NaN\n",
       "mean     NaN   NaN  90.0\n",
       "std      NaN   NaN   0.0\n",
       "min      NaN   NaN  90.0\n",
       "25%      NaN   NaN  90.0\n",
       "50%      NaN   NaN  90.0\n",
       "75%      NaN   NaN  90.0\n",
       "max      NaN   NaN  90.0"
      ]
     },
     "execution_count": 15,
     "metadata": {},
     "output_type": "execute_result"
    }
   ],
   "source": [
    "grades.describe(include='all')"
   ]
  },
  {
   "cell_type": "code",
   "execution_count": 16,
   "id": "08be2055",
   "metadata": {},
   "outputs": [
    {
     "name": "stdout",
     "output_type": "stream",
     "text": [
      " ---------------------- grades.shape ---------------------- \n",
      "type:  <class 'tuple'>\n",
      "(3, 3) \n",
      "\n",
      " ---------------------- grades.size ---------------------- \n",
      "type:  <class 'int'>\n",
      "9 \n",
      "\n"
     ]
    }
   ],
   "source": [
    "pr(grades.shape , 'grades.shape')\n",
    "pr(grades.size , 'grades.size')"
   ]
  },
  {
   "cell_type": "code",
   "execution_count": 17,
   "id": "b7bf2541",
   "metadata": {},
   "outputs": [
    {
     "data": {
      "text/plain": [
       "<bound method DataFrame.nunique of        name     quiz  exam\n",
       "s1     math     math    90\n",
       "s2  science  science    90\n",
       "s3  english  english    90>"
      ]
     },
     "execution_count": 17,
     "metadata": {},
     "output_type": "execute_result"
    }
   ],
   "source": [
    "grades.nunique"
   ]
  },
  {
   "cell_type": "markdown",
   "id": "d9c21b9f",
   "metadata": {},
   "source": [
    "# Loading in DataFrames from Files (CSV, Excel, Parquet, etc.)"
   ]
  },
  {
   "cell_type": "code",
   "execution_count": 18,
   "id": "a4c11023",
   "metadata": {},
   "outputs": [
    {
     "name": "stdout",
     "output_type": "stream",
     "text": [
      " ---------------------- coffee ---------------------- \n",
      "type:  <class 'pandas.core.frame.DataFrame'>\n",
      "          Day Coffee Type  Units Sold\n",
      "0      Monday    Espresso          25\n",
      "1      Monday       Latte          15\n",
      "2     Tuesday    Espresso          30\n",
      "3     Tuesday       Latte          20\n",
      "4   Wednesday    Espresso          35\n",
      "5   Wednesday       Latte          25\n",
      "6    Thursday    Espresso          40\n",
      "7    Thursday       Latte          30\n",
      "8      Friday    Espresso          45\n",
      "9      Friday       Latte          35\n",
      "10   Saturday    Espresso          45\n",
      "11   Saturday       Latte          35\n",
      "12     Sunday    Espresso          45\n",
      "13     Sunday       Latte          35 \n",
      "\n",
      " ---------------------- coffee.head() ---------------------- \n",
      "type:  <class 'pandas.core.frame.DataFrame'>\n",
      "         Day Coffee Type  Units Sold\n",
      "0     Monday    Espresso          25\n",
      "1     Monday       Latte          15\n",
      "2    Tuesday    Espresso          30\n",
      "3    Tuesday       Latte          20\n",
      "4  Wednesday    Espresso          35 \n",
      "\n"
     ]
    }
   ],
   "source": [
    "coffee = pd.read_csv('./warmup-data/coffee.csv')\n",
    "pr(coffee, 'coffee')\n",
    "pr(coffee.head(), 'coffee.head()')\n"
   ]
  },
  {
   "cell_type": "code",
   "execution_count": 20,
   "id": "4beab828",
   "metadata": {},
   "outputs": [
    {
     "data": {
      "text/html": [
       "<div>\n",
       "<style scoped>\n",
       "    .dataframe tbody tr th:only-of-type {\n",
       "        vertical-align: middle;\n",
       "    }\n",
       "\n",
       "    .dataframe tbody tr th {\n",
       "        vertical-align: top;\n",
       "    }\n",
       "\n",
       "    .dataframe thead th {\n",
       "        text-align: right;\n",
       "    }\n",
       "</style>\n",
       "<table border=\"1\" class=\"dataframe\">\n",
       "  <thead>\n",
       "    <tr style=\"text-align: right;\">\n",
       "      <th></th>\n",
       "      <th>year</th>\n",
       "      <th>type</th>\n",
       "      <th>discipline</th>\n",
       "      <th>event</th>\n",
       "      <th>as</th>\n",
       "      <th>athlete_id</th>\n",
       "      <th>noc</th>\n",
       "      <th>team</th>\n",
       "      <th>place</th>\n",
       "      <th>tied</th>\n",
       "      <th>medal</th>\n",
       "    </tr>\n",
       "  </thead>\n",
       "  <tbody>\n",
       "    <tr>\n",
       "      <th>0</th>\n",
       "      <td>1912.0</td>\n",
       "      <td>Summer</td>\n",
       "      <td>Tennis</td>\n",
       "      <td>Singles, Men (Olympic)</td>\n",
       "      <td>Jean-François Blanchy</td>\n",
       "      <td>1</td>\n",
       "      <td>FRA</td>\n",
       "      <td>None</td>\n",
       "      <td>17.0</td>\n",
       "      <td>True</td>\n",
       "      <td>None</td>\n",
       "    </tr>\n",
       "    <tr>\n",
       "      <th>1</th>\n",
       "      <td>1912.0</td>\n",
       "      <td>Summer</td>\n",
       "      <td>Tennis</td>\n",
       "      <td>Doubles, Men (Olympic)</td>\n",
       "      <td>Jean-François Blanchy</td>\n",
       "      <td>1</td>\n",
       "      <td>FRA</td>\n",
       "      <td>Jean Montariol</td>\n",
       "      <td>NaN</td>\n",
       "      <td>False</td>\n",
       "      <td>None</td>\n",
       "    </tr>\n",
       "    <tr>\n",
       "      <th>2</th>\n",
       "      <td>1920.0</td>\n",
       "      <td>Summer</td>\n",
       "      <td>Tennis</td>\n",
       "      <td>Singles, Men (Olympic)</td>\n",
       "      <td>Jean-François Blanchy</td>\n",
       "      <td>1</td>\n",
       "      <td>FRA</td>\n",
       "      <td>None</td>\n",
       "      <td>32.0</td>\n",
       "      <td>True</td>\n",
       "      <td>None</td>\n",
       "    </tr>\n",
       "    <tr>\n",
       "      <th>3</th>\n",
       "      <td>1920.0</td>\n",
       "      <td>Summer</td>\n",
       "      <td>Tennis</td>\n",
       "      <td>Doubles, Mixed (Olympic)</td>\n",
       "      <td>Jean-François Blanchy</td>\n",
       "      <td>1</td>\n",
       "      <td>FRA</td>\n",
       "      <td>Jeanne Vaussard</td>\n",
       "      <td>8.0</td>\n",
       "      <td>True</td>\n",
       "      <td>None</td>\n",
       "    </tr>\n",
       "    <tr>\n",
       "      <th>4</th>\n",
       "      <td>1920.0</td>\n",
       "      <td>Summer</td>\n",
       "      <td>Tennis</td>\n",
       "      <td>Doubles, Men (Olympic)</td>\n",
       "      <td>Jean-François Blanchy</td>\n",
       "      <td>1</td>\n",
       "      <td>FRA</td>\n",
       "      <td>Jacques Brugnon</td>\n",
       "      <td>4.0</td>\n",
       "      <td>False</td>\n",
       "      <td>None</td>\n",
       "    </tr>\n",
       "  </tbody>\n",
       "</table>\n",
       "</div>"
      ],
      "text/plain": [
       "     year    type discipline                     event                     as  \\\n",
       "0  1912.0  Summer     Tennis    Singles, Men (Olympic)  Jean-François Blanchy   \n",
       "1  1912.0  Summer     Tennis    Doubles, Men (Olympic)  Jean-François Blanchy   \n",
       "2  1920.0  Summer     Tennis    Singles, Men (Olympic)  Jean-François Blanchy   \n",
       "3  1920.0  Summer     Tennis  Doubles, Mixed (Olympic)  Jean-François Blanchy   \n",
       "4  1920.0  Summer     Tennis    Doubles, Men (Olympic)  Jean-François Blanchy   \n",
       "\n",
       "   athlete_id  noc             team  place   tied medal  \n",
       "0           1  FRA             None   17.0   True  None  \n",
       "1           1  FRA   Jean Montariol    NaN  False  None  \n",
       "2           1  FRA             None   32.0   True  None  \n",
       "3           1  FRA  Jeanne Vaussard    8.0   True  None  \n",
       "4           1  FRA  Jacques Brugnon    4.0  False  None  "
      ]
     },
     "execution_count": 20,
     "metadata": {},
     "output_type": "execute_result"
    }
   ],
   "source": [
    "# there other formats other than csv that have smaller size for the same dataset in comparison with csv. \n",
    "results = pd.read_parquet('./data/results.parquet')\n",
    "# pr(results.head() , 'results.head()')\n",
    "results.head()\n"
   ]
  },
  {
   "cell_type": "code",
   "execution_count": 23,
   "id": "1b3d2997",
   "metadata": {},
   "outputs": [
    {
     "data": {
      "text/html": [
       "<div>\n",
       "<style scoped>\n",
       "    .dataframe tbody tr th:only-of-type {\n",
       "        vertical-align: middle;\n",
       "    }\n",
       "\n",
       "    .dataframe tbody tr th {\n",
       "        vertical-align: top;\n",
       "    }\n",
       "\n",
       "    .dataframe thead th {\n",
       "        text-align: right;\n",
       "    }\n",
       "</style>\n",
       "<table border=\"1\" class=\"dataframe\">\n",
       "  <thead>\n",
       "    <tr style=\"text-align: right;\">\n",
       "      <th></th>\n",
       "      <th>year</th>\n",
       "      <th>type</th>\n",
       "      <th>discipline</th>\n",
       "      <th>event</th>\n",
       "      <th>as</th>\n",
       "      <th>athlete_id</th>\n",
       "      <th>noc</th>\n",
       "      <th>team</th>\n",
       "      <th>place</th>\n",
       "      <th>tied</th>\n",
       "      <th>medal</th>\n",
       "    </tr>\n",
       "  </thead>\n",
       "  <tbody>\n",
       "    <tr>\n",
       "      <th>0</th>\n",
       "      <td>1912.0</td>\n",
       "      <td>Summer</td>\n",
       "      <td>Tennis</td>\n",
       "      <td>Singles, Men (Olympic)</td>\n",
       "      <td>Jean-François Blanchy</td>\n",
       "      <td>1</td>\n",
       "      <td>FRA</td>\n",
       "      <td>NaN</td>\n",
       "      <td>17.0</td>\n",
       "      <td>True</td>\n",
       "      <td>NaN</td>\n",
       "    </tr>\n",
       "    <tr>\n",
       "      <th>1</th>\n",
       "      <td>1912.0</td>\n",
       "      <td>Summer</td>\n",
       "      <td>Tennis</td>\n",
       "      <td>Doubles, Men (Olympic)</td>\n",
       "      <td>Jean-François Blanchy</td>\n",
       "      <td>1</td>\n",
       "      <td>FRA</td>\n",
       "      <td>Jean Montariol</td>\n",
       "      <td>NaN</td>\n",
       "      <td>False</td>\n",
       "      <td>NaN</td>\n",
       "    </tr>\n",
       "    <tr>\n",
       "      <th>2</th>\n",
       "      <td>1920.0</td>\n",
       "      <td>Summer</td>\n",
       "      <td>Tennis</td>\n",
       "      <td>Singles, Men (Olympic)</td>\n",
       "      <td>Jean-François Blanchy</td>\n",
       "      <td>1</td>\n",
       "      <td>FRA</td>\n",
       "      <td>NaN</td>\n",
       "      <td>32.0</td>\n",
       "      <td>True</td>\n",
       "      <td>NaN</td>\n",
       "    </tr>\n",
       "    <tr>\n",
       "      <th>3</th>\n",
       "      <td>1920.0</td>\n",
       "      <td>Summer</td>\n",
       "      <td>Tennis</td>\n",
       "      <td>Doubles, Mixed (Olympic)</td>\n",
       "      <td>Jean-François Blanchy</td>\n",
       "      <td>1</td>\n",
       "      <td>FRA</td>\n",
       "      <td>Jeanne Vaussard</td>\n",
       "      <td>8.0</td>\n",
       "      <td>True</td>\n",
       "      <td>NaN</td>\n",
       "    </tr>\n",
       "    <tr>\n",
       "      <th>4</th>\n",
       "      <td>1920.0</td>\n",
       "      <td>Summer</td>\n",
       "      <td>Tennis</td>\n",
       "      <td>Doubles, Men (Olympic)</td>\n",
       "      <td>Jean-François Blanchy</td>\n",
       "      <td>1</td>\n",
       "      <td>FRA</td>\n",
       "      <td>Jacques Brugnon</td>\n",
       "      <td>4.0</td>\n",
       "      <td>False</td>\n",
       "      <td>NaN</td>\n",
       "    </tr>\n",
       "  </tbody>\n",
       "</table>\n",
       "</div>"
      ],
      "text/plain": [
       "     year    type discipline                     event                     as  \\\n",
       "0  1912.0  Summer     Tennis    Singles, Men (Olympic)  Jean-François Blanchy   \n",
       "1  1912.0  Summer     Tennis    Doubles, Men (Olympic)  Jean-François Blanchy   \n",
       "2  1920.0  Summer     Tennis    Singles, Men (Olympic)  Jean-François Blanchy   \n",
       "3  1920.0  Summer     Tennis  Doubles, Mixed (Olympic)  Jean-François Blanchy   \n",
       "4  1920.0  Summer     Tennis    Doubles, Men (Olympic)  Jean-François Blanchy   \n",
       "\n",
       "   athlete_id  noc             team  place   tied medal  \n",
       "0           1  FRA              NaN   17.0   True   NaN  \n",
       "1           1  FRA   Jean Montariol    NaN  False   NaN  \n",
       "2           1  FRA              NaN   32.0   True   NaN  \n",
       "3           1  FRA  Jeanne Vaussard    8.0   True   NaN  \n",
       "4           1  FRA  Jacques Brugnon    4.0  False   NaN  "
      ]
     },
     "execution_count": 23,
     "metadata": {},
     "output_type": "execute_result"
    }
   ],
   "source": [
    "results_excel = pd.read_excel('./data/olympics-data.xlsx' , sheet_name='results')\n",
    "results_excel.head()"
   ]
  },
  {
   "cell_type": "code",
   "execution_count": 25,
   "id": "cd107321",
   "metadata": {},
   "outputs": [
    {
     "name": "stdout",
     "output_type": "stream",
     "text": [
      " ---------------------- bios.head() ---------------------- \n",
      "type:  <class 'pandas.core.frame.DataFrame'>\n",
      "   athlete_id                   name   born_date    born_city  \\\n",
      "0           1  Jean-François Blanchy  1886-12-12     Bordeaux   \n",
      "1           2         Arnaud Boetsch  1969-04-01       Meulan   \n",
      "2           3           Jean Borotra  1898-08-13     Biarritz   \n",
      "3           4        Jacques Brugnon  1895-05-11  Paris VIIIe   \n",
      "4           5           Albert Canet  1878-04-17   Wandsworth   \n",
      "\n",
      "            born_region born_country     NOC  height_cm  weight_kg   died_date  \n",
      "0               Gironde          FRA  France        NaN        NaN  1960-10-02  \n",
      "1              Yvelines          FRA  France      183.0       76.0         NaN  \n",
      "2  Pyrénées-Atlantiques          FRA  France      183.0       76.0  1994-07-17  \n",
      "3                 Paris          FRA  France      168.0       64.0  1978-03-20  \n",
      "4               England          GBR  France        NaN        NaN  1930-07-25   \n",
      "\n"
     ]
    }
   ],
   "source": [
    "bios= pd.read_csv('./data/bios.csv')\n",
    "pr(bios.head(), 'bios.head()')"
   ]
  },
  {
   "cell_type": "code",
   "execution_count": null,
   "id": "e25cb83b",
   "metadata": {},
   "outputs": [],
   "source": []
  }
 ],
 "metadata": {
  "kernelspec": {
   "display_name": "Python 3",
   "language": "python",
   "name": "python3"
  },
  "language_info": {
   "codemirror_mode": {
    "name": "ipython",
    "version": 3
   },
   "file_extension": ".py",
   "mimetype": "text/x-python",
   "name": "python",
   "nbconvert_exporter": "python",
   "pygments_lexer": "ipython3",
   "version": "3.13.7"
  }
 },
 "nbformat": 4,
 "nbformat_minor": 5
}
